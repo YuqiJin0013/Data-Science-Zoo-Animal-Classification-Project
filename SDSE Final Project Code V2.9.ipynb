{
 "cells": [
  {
   "cell_type": "markdown",
   "id": "0b78dbfc",
   "metadata": {},
   "source": [
    "## Please do a pip install graphviz in your python terminal environment."
   ]
  },
  {
   "cell_type": "code",
   "execution_count": 9,
   "id": "1bd27422",
   "metadata": {},
   "outputs": [],
   "source": [
    "import numpy as np\n",
    "import pandas as pd \n",
    "from sklearn.cluster import KMeans\n",
    "import matplotlib.pyplot as plt\n",
    "from sklearn.utils import shuffle"
   ]
  },
  {
   "cell_type": "code",
   "execution_count": 10,
   "id": "5540256d",
   "metadata": {},
   "outputs": [
    {
     "data": {
      "text/html": [
       "<div>\n",
       "<style scoped>\n",
       "    .dataframe tbody tr th:only-of-type {\n",
       "        vertical-align: middle;\n",
       "    }\n",
       "\n",
       "    .dataframe tbody tr th {\n",
       "        vertical-align: top;\n",
       "    }\n",
       "\n",
       "    .dataframe thead th {\n",
       "        text-align: right;\n",
       "    }\n",
       "</style>\n",
       "<table border=\"1\" class=\"dataframe\">\n",
       "  <thead>\n",
       "    <tr style=\"text-align: right;\">\n",
       "      <th></th>\n",
       "      <th>animal_name</th>\n",
       "      <th>hair</th>\n",
       "      <th>feathers</th>\n",
       "      <th>eggs</th>\n",
       "      <th>milk</th>\n",
       "      <th>airborne</th>\n",
       "      <th>aquatic</th>\n",
       "      <th>predator</th>\n",
       "      <th>toothed</th>\n",
       "      <th>backbone</th>\n",
       "      <th>breathes</th>\n",
       "      <th>venomous</th>\n",
       "      <th>fins</th>\n",
       "      <th>legs</th>\n",
       "      <th>tail</th>\n",
       "      <th>domestic</th>\n",
       "      <th>catsize</th>\n",
       "      <th>class_type</th>\n",
       "    </tr>\n",
       "  </thead>\n",
       "  <tbody>\n",
       "    <tr>\n",
       "      <th>0</th>\n",
       "      <td>aardvark</td>\n",
       "      <td>1</td>\n",
       "      <td>0</td>\n",
       "      <td>0</td>\n",
       "      <td>1</td>\n",
       "      <td>0</td>\n",
       "      <td>0</td>\n",
       "      <td>1</td>\n",
       "      <td>1</td>\n",
       "      <td>1</td>\n",
       "      <td>1</td>\n",
       "      <td>0</td>\n",
       "      <td>0</td>\n",
       "      <td>4</td>\n",
       "      <td>0</td>\n",
       "      <td>0</td>\n",
       "      <td>1</td>\n",
       "      <td>1</td>\n",
       "    </tr>\n",
       "    <tr>\n",
       "      <th>1</th>\n",
       "      <td>antelope</td>\n",
       "      <td>1</td>\n",
       "      <td>0</td>\n",
       "      <td>0</td>\n",
       "      <td>1</td>\n",
       "      <td>0</td>\n",
       "      <td>0</td>\n",
       "      <td>0</td>\n",
       "      <td>1</td>\n",
       "      <td>1</td>\n",
       "      <td>1</td>\n",
       "      <td>0</td>\n",
       "      <td>0</td>\n",
       "      <td>4</td>\n",
       "      <td>1</td>\n",
       "      <td>0</td>\n",
       "      <td>1</td>\n",
       "      <td>1</td>\n",
       "    </tr>\n",
       "    <tr>\n",
       "      <th>2</th>\n",
       "      <td>bass</td>\n",
       "      <td>0</td>\n",
       "      <td>0</td>\n",
       "      <td>1</td>\n",
       "      <td>0</td>\n",
       "      <td>0</td>\n",
       "      <td>1</td>\n",
       "      <td>1</td>\n",
       "      <td>1</td>\n",
       "      <td>1</td>\n",
       "      <td>0</td>\n",
       "      <td>0</td>\n",
       "      <td>1</td>\n",
       "      <td>0</td>\n",
       "      <td>1</td>\n",
       "      <td>0</td>\n",
       "      <td>0</td>\n",
       "      <td>4</td>\n",
       "    </tr>\n",
       "    <tr>\n",
       "      <th>3</th>\n",
       "      <td>bear</td>\n",
       "      <td>1</td>\n",
       "      <td>0</td>\n",
       "      <td>0</td>\n",
       "      <td>1</td>\n",
       "      <td>0</td>\n",
       "      <td>0</td>\n",
       "      <td>1</td>\n",
       "      <td>1</td>\n",
       "      <td>1</td>\n",
       "      <td>1</td>\n",
       "      <td>0</td>\n",
       "      <td>0</td>\n",
       "      <td>4</td>\n",
       "      <td>0</td>\n",
       "      <td>0</td>\n",
       "      <td>1</td>\n",
       "      <td>1</td>\n",
       "    </tr>\n",
       "    <tr>\n",
       "      <th>4</th>\n",
       "      <td>boar</td>\n",
       "      <td>1</td>\n",
       "      <td>0</td>\n",
       "      <td>0</td>\n",
       "      <td>1</td>\n",
       "      <td>0</td>\n",
       "      <td>0</td>\n",
       "      <td>1</td>\n",
       "      <td>1</td>\n",
       "      <td>1</td>\n",
       "      <td>1</td>\n",
       "      <td>0</td>\n",
       "      <td>0</td>\n",
       "      <td>4</td>\n",
       "      <td>1</td>\n",
       "      <td>0</td>\n",
       "      <td>1</td>\n",
       "      <td>1</td>\n",
       "    </tr>\n",
       "  </tbody>\n",
       "</table>\n",
       "</div>"
      ],
      "text/plain": [
       "  animal_name  hair  feathers  eggs  milk  airborne  aquatic  predator  \\\n",
       "0    aardvark     1         0     0     1         0        0         1   \n",
       "1    antelope     1         0     0     1         0        0         0   \n",
       "2        bass     0         0     1     0         0        1         1   \n",
       "3        bear     1         0     0     1         0        0         1   \n",
       "4        boar     1         0     0     1         0        0         1   \n",
       "\n",
       "   toothed  backbone  breathes  venomous  fins  legs  tail  domestic  catsize  \\\n",
       "0        1         1         1         0     0     4     0         0        1   \n",
       "1        1         1         1         0     0     4     1         0        1   \n",
       "2        1         1         0         0     1     0     1         0        0   \n",
       "3        1         1         1         0     0     4     0         0        1   \n",
       "4        1         1         1         0     0     4     1         0        1   \n",
       "\n",
       "   class_type  \n",
       "0           1  \n",
       "1           1  \n",
       "2           4  \n",
       "3           1  \n",
       "4           1  "
      ]
     },
     "execution_count": 10,
     "metadata": {},
     "output_type": "execute_result"
    }
   ],
   "source": [
    "data = pd.read_csv(\"zoo.csv\")\n",
    "data.head()"
   ]
  },
  {
   "cell_type": "code",
   "execution_count": 11,
   "id": "c8159037",
   "metadata": {},
   "outputs": [],
   "source": [
    "#data_rand = shuffle(data)\n",
    "#data_rand.head()"
   ]
  },
  {
   "cell_type": "code",
   "execution_count": 12,
   "id": "9032c361",
   "metadata": {},
   "outputs": [],
   "source": [
    "animal_names = data[\"animal_name\"]\n",
    "class_types = data[\"class_type\"].unique()\n",
    "Target = data[\"class_type\"]"
   ]
  },
  {
   "cell_type": "code",
   "execution_count": 13,
   "id": "94be460f",
   "metadata": {},
   "outputs": [],
   "source": [
    "Pure_data_1 = data.drop([\"animal_name\"], axis=1)"
   ]
  },
  {
   "cell_type": "code",
   "execution_count": 14,
   "id": "4b7d64db",
   "metadata": {},
   "outputs": [],
   "source": [
    "Pure_data_2 = data.drop([\"animal_name\", \"class_type\"], axis=1)"
   ]
  },
  {
   "cell_type": "code",
   "execution_count": 15,
   "id": "2008c9b6",
   "metadata": {},
   "outputs": [
    {
     "data": {
      "text/html": [
       "<div>\n",
       "<style scoped>\n",
       "    .dataframe tbody tr th:only-of-type {\n",
       "        vertical-align: middle;\n",
       "    }\n",
       "\n",
       "    .dataframe tbody tr th {\n",
       "        vertical-align: top;\n",
       "    }\n",
       "\n",
       "    .dataframe thead th {\n",
       "        text-align: right;\n",
       "    }\n",
       "</style>\n",
       "<table border=\"1\" class=\"dataframe\">\n",
       "  <thead>\n",
       "    <tr style=\"text-align: right;\">\n",
       "      <th></th>\n",
       "      <th>hair</th>\n",
       "      <th>feathers</th>\n",
       "      <th>eggs</th>\n",
       "      <th>milk</th>\n",
       "      <th>airborne</th>\n",
       "      <th>aquatic</th>\n",
       "      <th>predator</th>\n",
       "      <th>toothed</th>\n",
       "      <th>backbone</th>\n",
       "      <th>breathes</th>\n",
       "      <th>venomous</th>\n",
       "      <th>fins</th>\n",
       "      <th>legs</th>\n",
       "      <th>tail</th>\n",
       "      <th>domestic</th>\n",
       "      <th>catsize</th>\n",
       "    </tr>\n",
       "  </thead>\n",
       "  <tbody>\n",
       "    <tr>\n",
       "      <th>0</th>\n",
       "      <td>1</td>\n",
       "      <td>0</td>\n",
       "      <td>0</td>\n",
       "      <td>1</td>\n",
       "      <td>0</td>\n",
       "      <td>0</td>\n",
       "      <td>1</td>\n",
       "      <td>1</td>\n",
       "      <td>1</td>\n",
       "      <td>1</td>\n",
       "      <td>0</td>\n",
       "      <td>0</td>\n",
       "      <td>4</td>\n",
       "      <td>0</td>\n",
       "      <td>0</td>\n",
       "      <td>1</td>\n",
       "    </tr>\n",
       "    <tr>\n",
       "      <th>1</th>\n",
       "      <td>1</td>\n",
       "      <td>0</td>\n",
       "      <td>0</td>\n",
       "      <td>1</td>\n",
       "      <td>0</td>\n",
       "      <td>0</td>\n",
       "      <td>0</td>\n",
       "      <td>1</td>\n",
       "      <td>1</td>\n",
       "      <td>1</td>\n",
       "      <td>0</td>\n",
       "      <td>0</td>\n",
       "      <td>4</td>\n",
       "      <td>1</td>\n",
       "      <td>0</td>\n",
       "      <td>1</td>\n",
       "    </tr>\n",
       "    <tr>\n",
       "      <th>2</th>\n",
       "      <td>0</td>\n",
       "      <td>0</td>\n",
       "      <td>1</td>\n",
       "      <td>0</td>\n",
       "      <td>0</td>\n",
       "      <td>1</td>\n",
       "      <td>1</td>\n",
       "      <td>1</td>\n",
       "      <td>1</td>\n",
       "      <td>0</td>\n",
       "      <td>0</td>\n",
       "      <td>1</td>\n",
       "      <td>0</td>\n",
       "      <td>1</td>\n",
       "      <td>0</td>\n",
       "      <td>0</td>\n",
       "    </tr>\n",
       "    <tr>\n",
       "      <th>3</th>\n",
       "      <td>1</td>\n",
       "      <td>0</td>\n",
       "      <td>0</td>\n",
       "      <td>1</td>\n",
       "      <td>0</td>\n",
       "      <td>0</td>\n",
       "      <td>1</td>\n",
       "      <td>1</td>\n",
       "      <td>1</td>\n",
       "      <td>1</td>\n",
       "      <td>0</td>\n",
       "      <td>0</td>\n",
       "      <td>4</td>\n",
       "      <td>0</td>\n",
       "      <td>0</td>\n",
       "      <td>1</td>\n",
       "    </tr>\n",
       "    <tr>\n",
       "      <th>4</th>\n",
       "      <td>1</td>\n",
       "      <td>0</td>\n",
       "      <td>0</td>\n",
       "      <td>1</td>\n",
       "      <td>0</td>\n",
       "      <td>0</td>\n",
       "      <td>1</td>\n",
       "      <td>1</td>\n",
       "      <td>1</td>\n",
       "      <td>1</td>\n",
       "      <td>0</td>\n",
       "      <td>0</td>\n",
       "      <td>4</td>\n",
       "      <td>1</td>\n",
       "      <td>0</td>\n",
       "      <td>1</td>\n",
       "    </tr>\n",
       "  </tbody>\n",
       "</table>\n",
       "</div>"
      ],
      "text/plain": [
       "   hair  feathers  eggs  milk  airborne  aquatic  predator  toothed  backbone  \\\n",
       "0     1         0     0     1         0        0         1        1         1   \n",
       "1     1         0     0     1         0        0         0        1         1   \n",
       "2     0         0     1     0         0        1         1        1         1   \n",
       "3     1         0     0     1         0        0         1        1         1   \n",
       "4     1         0     0     1         0        0         1        1         1   \n",
       "\n",
       "   breathes  venomous  fins  legs  tail  domestic  catsize  \n",
       "0         1         0     0     4     0         0        1  \n",
       "1         1         0     0     4     1         0        1  \n",
       "2         0         0     1     0     1         0        0  \n",
       "3         1         0     0     4     0         0        1  \n",
       "4         1         0     0     4     1         0        1  "
      ]
     },
     "execution_count": 15,
     "metadata": {},
     "output_type": "execute_result"
    }
   ],
   "source": [
    "Pure_data_2.head()"
   ]
  },
  {
   "cell_type": "markdown",
   "id": "0b4fa050",
   "metadata": {},
   "source": [
    "## K-Means"
   ]
  },
  {
   "cell_type": "markdown",
   "id": "044676da",
   "metadata": {},
   "source": [
    "#### Training and Prediction with full data set"
   ]
  },
  {
   "cell_type": "code",
   "execution_count": 61,
   "id": "8f81d523",
   "metadata": {},
   "outputs": [
    {
     "name": "stdout",
     "output_type": "stream",
     "text": [
      "Initialization complete\n",
      "Iteration 0, inertia 199.0\n",
      "Iteration 1, inertia 135.0641752462646\n",
      "Iteration 2, inertia 134.7258241758242\n",
      "Converged at iteration 2: strict convergence.\n"
     ]
    },
    {
     "data": {
      "text/plain": [
       "KMeans(algorithm='elkan', max_iter=7000, n_clusters=7, n_init=1,\n",
       "       random_state=454, verbose=1)"
      ]
     },
     "execution_count": 61,
     "metadata": {},
     "output_type": "execute_result"
    }
   ],
   "source": [
    "C = 7\n",
    "rng_seed = 454 # None\n",
    "kmeans = KMeans(\n",
    "    init='k-means++', \n",
    "    n_clusters=C,\n",
    "    n_init=1,\n",
    "    max_iter=7000\n",
    "    ,random_state=rng_seed\n",
    "    ,algorithm='elkan' # \"auto\"\n",
    "    ,verbose=1\n",
    "    ,copy_x=True\n",
    ")\n",
    "kmeans.fit(Pure_data_2,Target)"
   ]
  },
  {
   "cell_type": "code",
   "execution_count": 62,
   "id": "4de82410",
   "metadata": {},
   "outputs": [
    {
     "name": "stdout",
     "output_type": "stream",
     "text": [
      "Initialization complete\n",
      "Iteration 0, inertia 199.0\n",
      "Iteration 1, inertia 135.0641752462646\n",
      "Iteration 2, inertia 134.7258241758242\n",
      "Converged at iteration 2: strict convergence.\n"
     ]
    },
    {
     "data": {
      "text/plain": [
       "array([1, 1, 5, 1, 1, 1, 1, 5, 5, 1, 1, 0, 5, 4, 6, 3, 0, 1, 5, 2, 0, 0,\n",
       "       1, 0, 3, 6, 6, 0, 1, 1, 3, 1, 1, 0, 5, 1, 1, 0, 5, 3, 3, 0, 3, 0,\n",
       "       1, 1, 3, 1, 1, 1, 1, 3, 6, 3, 1, 1, 0, 0, 0, 0, 5, 5, 4, 1, 1, 1,\n",
       "       2, 1, 1, 1, 1, 0, 3, 5, 2, 2, 4, 4, 0, 0, 4, 4, 5, 0, 1, 3, 5, 0,\n",
       "       3, 6, 6, 6, 5, 0, 1, 0, 1, 3, 1, 4, 0], dtype=int32)"
      ]
     },
     "execution_count": 62,
     "metadata": {},
     "output_type": "execute_result"
    }
   ],
   "source": [
    "labels = kmeans.fit_predict(Pure_data_2)\n",
    "labels"
   ]
  },
  {
   "cell_type": "code",
   "execution_count": 63,
   "id": "c29dff65",
   "metadata": {},
   "outputs": [],
   "source": [
    "#Target"
   ]
  },
  {
   "cell_type": "code",
   "execution_count": 64,
   "id": "d06d36d4",
   "metadata": {},
   "outputs": [
    {
     "name": "stdout",
     "output_type": "stream",
     "text": [
      "\n",
      "Cluster 0:\n",
      "chicken\n",
      "crow\n",
      "dove\n",
      "duck\n",
      "flamingo\n",
      "fruitbat\n",
      "gull\n",
      "hawk\n",
      "kiwi\n",
      "lark\n",
      "ostrich\n",
      "parakeet\n",
      "penguin\n",
      "pheasant\n",
      "rhea\n",
      "skimmer\n",
      "skua\n",
      "sparrow\n",
      "swan\n",
      "vampire\n",
      "vulture\n",
      "wren\n",
      "\n",
      "Cluster 1:\n",
      "aardvark\n",
      "antelope\n",
      "bear\n",
      "boar\n",
      "buffalo\n",
      "calf\n",
      "cavy\n",
      "cheetah\n",
      "deer\n",
      "elephant\n",
      "giraffe\n",
      "girl\n",
      "goat\n",
      "gorilla\n",
      "hamster\n",
      "hare\n",
      "leopard\n",
      "lion\n",
      "lynx\n",
      "mink\n",
      "mole\n",
      "mongoose\n",
      "opossum\n",
      "oryx\n",
      "platypus\n",
      "polecat\n",
      "pony\n",
      "puma\n",
      "pussycat\n",
      "raccoon\n",
      "reindeer\n",
      "squirrel\n",
      "vole\n",
      "wallaby\n",
      "wolf\n",
      "\n",
      "Cluster 2:\n",
      "dolphin\n",
      "porpoise\n",
      "seal\n",
      "sealion\n",
      "\n",
      "Cluster 3:\n",
      "crayfish\n",
      "flea\n",
      "gnat\n",
      "honeybee\n",
      "housefly\n",
      "ladybird\n",
      "lobster\n",
      "moth\n",
      "octopus\n",
      "scorpion\n",
      "starfish\n",
      "termite\n",
      "wasp\n",
      "\n",
      "Cluster 4:\n",
      "clam\n",
      "pitviper\n",
      "seasnake\n",
      "seawasp\n",
      "slowworm\n",
      "slug\n",
      "worm\n",
      "\n",
      "Cluster 5:\n",
      "bass\n",
      "carp\n",
      "catfish\n",
      "chub\n",
      "dogfish\n",
      "haddock\n",
      "herring\n",
      "pike\n",
      "piranha\n",
      "seahorse\n",
      "sole\n",
      "stingray\n",
      "tuna\n",
      "\n",
      "Cluster 6:\n",
      "crab\n",
      "frog\n",
      "frog\n",
      "newt\n",
      "toad\n",
      "tortoise\n",
      "tuatara\n"
     ]
    }
   ],
   "source": [
    "# Visualization of Clusters\n",
    "clusters = [[], [], [], [], [], [], []]\n",
    "\n",
    "for idx in range(len(labels)):\n",
    "    clusters[labels[idx]].append(animal_names[idx])\n",
    "\n",
    "for ct in range(C):\n",
    "    print(\"\\nCluster \", ct, \":\", sep=\"\")\n",
    "    for i in range(len(clusters[ct])): print(clusters[ct][i])"
   ]
  },
  {
   "cell_type": "code",
   "execution_count": 65,
   "id": "e2c932dc",
   "metadata": {
    "scrolled": false
   },
   "outputs": [],
   "source": [
    "import sklearn.metrics as metrics\n",
    "score = metrics.accuracy_score(Target,labels)\n",
    "score\n",
    "scores = []\n",
    "scores = [score, 'K_F'] "
   ]
  },
  {
   "cell_type": "markdown",
   "id": "0f21f1f0",
   "metadata": {},
   "source": [
    "#### Training and Prediction with 80/20 split"
   ]
  },
  {
   "cell_type": "code",
   "execution_count": 66,
   "id": "857c5dc1",
   "metadata": {
    "scrolled": false
   },
   "outputs": [
    {
     "name": "stdout",
     "output_type": "stream",
     "text": [
      "Initialization complete\n",
      "Iteration 0, inertia 171.0\n",
      "Iteration 1, inertia 103.5090976331361\n",
      "Iteration 2, inertia 103.18942307692308\n",
      "Converged at iteration 2: strict convergence.\n"
     ]
    },
    {
     "data": {
      "text/plain": [
       "KMeans(algorithm='elkan', max_iter=7000, n_clusters=7, n_init=1,\n",
       "       random_state=454, verbose=1)"
      ]
     },
     "execution_count": 66,
     "metadata": {},
     "output_type": "execute_result"
    }
   ],
   "source": [
    "kmeans.fit(Pure_data_2.iloc[:80,:], Target.iloc[:80])"
   ]
  },
  {
   "cell_type": "code",
   "execution_count": 67,
   "id": "011ed6fc",
   "metadata": {},
   "outputs": [
    {
     "name": "stdout",
     "output_type": "stream",
     "text": [
      "Initialization complete\n",
      "Iteration 0, inertia 30.0\n",
      "Iteration 1, inertia 17.5\n",
      "Converged at iteration 1: strict convergence.\n"
     ]
    },
    {
     "data": {
      "text/plain": [
       "array([4, 4, 2, 1, 3, 5, 2, 1, 5, 0, 0, 0, 2, 3, 6, 1, 3, 5, 6, 4, 1],\n",
       "      dtype=int32)"
      ]
     },
     "execution_count": 67,
     "metadata": {},
     "output_type": "execute_result"
    }
   ],
   "source": [
    "labels = kmeans.fit_predict(Pure_data_2.iloc[80:,:])\n",
    "labels"
   ]
  },
  {
   "cell_type": "code",
   "execution_count": 68,
   "id": "b94e3479",
   "metadata": {},
   "outputs": [
    {
     "name": "stdout",
     "output_type": "stream",
     "text": [
      "\n",
      "Cluster 0:\n",
      "cavy\n",
      "cheetah\n",
      "chicken\n",
      "\n",
      "Cluster 1:\n",
      "bear\n",
      "carp\n",
      "crayfish\n",
      "dove\n",
      "\n",
      "Cluster 2:\n",
      "bass\n",
      "calf\n",
      "chub\n",
      "\n",
      "Cluster 3:\n",
      "boar\n",
      "clam\n",
      "crow\n",
      "\n",
      "Cluster 4:\n",
      "aardvark\n",
      "antelope\n",
      "dolphin\n",
      "\n",
      "Cluster 5:\n",
      "buffalo\n",
      "catfish\n",
      "deer\n",
      "\n",
      "Cluster 6:\n",
      "crab\n",
      "dogfish\n"
     ]
    }
   ],
   "source": [
    "# Visualization of Clusters\n",
    "clusters = [[], [], [], [], [], [], []]\n",
    "\n",
    "for idx in range(len(labels)):\n",
    "    clusters[labels[idx]].append(animal_names[idx])\n",
    "\n",
    "for ct in range(C):\n",
    "    print(\"\\nCluster \", ct, \":\", sep=\"\")\n",
    "    for i in range(len(clusters[ct])): print(clusters[ct][i])"
   ]
  },
  {
   "cell_type": "code",
   "execution_count": 69,
   "id": "dc40559f",
   "metadata": {
    "scrolled": true
   },
   "outputs": [
    {
     "data": {
      "text/plain": [
       "0.0"
      ]
     },
     "execution_count": 69,
     "metadata": {},
     "output_type": "execute_result"
    }
   ],
   "source": [
    "score = metrics.accuracy_score(Target.iloc[80:],labels)\n",
    "score"
   ]
  },
  {
   "cell_type": "code",
   "execution_count": 70,
   "id": "0a31e2d7",
   "metadata": {},
   "outputs": [
    {
     "data": {
      "text/plain": [
       "array([['0.3465346534653465', 'K_F'],\n",
       "       ['0.0', 'K_80']], dtype='<U32')"
      ]
     },
     "execution_count": 70,
     "metadata": {},
     "output_type": "execute_result"
    }
   ],
   "source": [
    "scores = np.vstack((scores, [score, 'K_80']))\n",
    "scores"
   ]
  },
  {
   "cell_type": "markdown",
   "id": "447f61fe",
   "metadata": {},
   "source": [
    "## GaussianMixture"
   ]
  },
  {
   "cell_type": "markdown",
   "id": "7160478c",
   "metadata": {},
   "source": [
    "#### Finding (lowest) BIC score first to find correct \\# of components and type of covariance for GMM and BGMM."
   ]
  },
  {
   "cell_type": "code",
   "execution_count": 71,
   "id": "3f784e87",
   "metadata": {},
   "outputs": [
    {
     "data": {
      "text/plain": [
       "GridSearchCV(estimator=GaussianMixture(),\n",
       "             param_grid={'covariance_type': ['spherical', 'tied', 'diag',\n",
       "                                             'full'],\n",
       "                         'n_components': range(1, 17)},\n",
       "             scoring=<function gmm_bic_score at 0x7fe2d00e7940>)"
      ]
     },
     "execution_count": 71,
     "metadata": {},
     "output_type": "execute_result"
    }
   ],
   "source": [
    "from sklearn.mixture import GaussianMixture\n",
    "from sklearn.model_selection import GridSearchCV\n",
    "\n",
    "def gmm_bic_score(estimator, X):\n",
    "    \"\"\"Callable to pass to GridSearchCV that will use the BIC score.\"\"\"\n",
    "    # Make it negative since GridSearchCV expects a score to maximize\n",
    "    return -estimator.bic(X)\n",
    "\n",
    "\n",
    "param_grid = {\n",
    "    \"n_components\": range(1, 17),\n",
    "    \"covariance_type\": [\"spherical\", \"tied\", \"diag\", \"full\"],\n",
    "}\n",
    "grid_search = GridSearchCV(\n",
    "    GaussianMixture(), param_grid=param_grid, scoring=gmm_bic_score\n",
    ")\n",
    "grid_search.fit(Pure_data_2)"
   ]
  },
  {
   "cell_type": "code",
   "execution_count": 72,
   "id": "00a5e69b",
   "metadata": {},
   "outputs": [
    {
     "data": {
      "text/html": [
       "<div>\n",
       "<style scoped>\n",
       "    .dataframe tbody tr th:only-of-type {\n",
       "        vertical-align: middle;\n",
       "    }\n",
       "\n",
       "    .dataframe tbody tr th {\n",
       "        vertical-align: top;\n",
       "    }\n",
       "\n",
       "    .dataframe thead th {\n",
       "        text-align: right;\n",
       "    }\n",
       "</style>\n",
       "<table border=\"1\" class=\"dataframe\">\n",
       "  <thead>\n",
       "    <tr style=\"text-align: right;\">\n",
       "      <th></th>\n",
       "      <th>Number of components</th>\n",
       "      <th>Type of covariance</th>\n",
       "      <th>BIC score</th>\n",
       "    </tr>\n",
       "  </thead>\n",
       "  <tbody>\n",
       "    <tr>\n",
       "      <th>3</th>\n",
       "      <td>4</td>\n",
       "      <td>spherical</td>\n",
       "      <td>522.972062</td>\n",
       "    </tr>\n",
       "    <tr>\n",
       "      <th>32</th>\n",
       "      <td>1</td>\n",
       "      <td>diag</td>\n",
       "      <td>545.077051</td>\n",
       "    </tr>\n",
       "    <tr>\n",
       "      <th>2</th>\n",
       "      <td>3</td>\n",
       "      <td>spherical</td>\n",
       "      <td>567.395579</td>\n",
       "    </tr>\n",
       "    <tr>\n",
       "      <th>4</th>\n",
       "      <td>5</td>\n",
       "      <td>spherical</td>\n",
       "      <td>578.433770</td>\n",
       "    </tr>\n",
       "    <tr>\n",
       "      <th>6</th>\n",
       "      <td>7</td>\n",
       "      <td>spherical</td>\n",
       "      <td>624.375819</td>\n",
       "    </tr>\n",
       "  </tbody>\n",
       "</table>\n",
       "</div>"
      ],
      "text/plain": [
       "   Number of components Type of covariance   BIC score\n",
       "3                     4          spherical  522.972062\n",
       "32                    1               diag  545.077051\n",
       "2                     3          spherical  567.395579\n",
       "4                     5          spherical  578.433770\n",
       "6                     7          spherical  624.375819"
      ]
     },
     "execution_count": 72,
     "metadata": {},
     "output_type": "execute_result"
    }
   ],
   "source": [
    "df = pd.DataFrame(grid_search.cv_results_)[\n",
    "    [\"param_n_components\", \"param_covariance_type\", \"mean_test_score\"]\n",
    "]\n",
    "df[\"mean_test_score\"] = -df[\"mean_test_score\"]\n",
    "df = df.rename(\n",
    "    columns={\n",
    "        \"param_n_components\": \"Number of components\",\n",
    "        \"param_covariance_type\": \"Type of covariance\",\n",
    "        \"mean_test_score\": \"BIC score\",\n",
    "    }\n",
    ")\n",
    "df.sort_values(by=\"BIC score\").head()\n",
    "# Choose the # of components and Type of covariance from lowest BIC score."
   ]
  },
  {
   "cell_type": "code",
   "execution_count": 73,
   "id": "99b58aaf",
   "metadata": {},
   "outputs": [
    {
     "data": {
      "text/plain": [
       "4"
      ]
     },
     "execution_count": 73,
     "metadata": {},
     "output_type": "execute_result"
    }
   ],
   "source": [
    "Desired_comps = df.sort_values(by=\"BIC score\")['Number of components'].iloc[0]\n",
    "Desired_comps"
   ]
  },
  {
   "cell_type": "code",
   "execution_count": 74,
   "id": "69cbc8b5",
   "metadata": {},
   "outputs": [
    {
     "data": {
      "text/plain": [
       "'spherical'"
      ]
     },
     "execution_count": 74,
     "metadata": {},
     "output_type": "execute_result"
    }
   ],
   "source": [
    "Desired_cov = df.sort_values(by=\"BIC score\")['Type of covariance'].iloc[0]\n",
    "Desired_cov"
   ]
  },
  {
   "cell_type": "code",
   "execution_count": 75,
   "id": "b6488b82",
   "metadata": {
    "scrolled": true
   },
   "outputs": [
    {
     "data": {
      "image/png": "[encoded data removed]",
      "text/plain": [
       "<Figure size 641.611x500 with 1 Axes>"
      ]
     },
     "metadata": {},
     "output_type": "display_data"
    }
   ],
   "source": [
    "import seaborn as sns\n",
    "sns.catplot(\n",
    "    data=df,\n",
    "    kind=\"bar\",\n",
    "    x=\"Number of components\",\n",
    "    y=\"BIC score\",\n",
    "    hue=\"Type of covariance\",\n",
    ")\n",
    "plt.show()"
   ]
  },
  {
   "cell_type": "markdown",
   "id": "c76a3b61",
   "metadata": {},
   "source": [
    "#### Training and Prediction with full data set"
   ]
  },
  {
   "cell_type": "code",
   "execution_count": 76,
   "id": "9ca4a753",
   "metadata": {},
   "outputs": [
    {
     "data": {
      "text/plain": [
       "array([[4.24869964e-11, 1.00000000e+00, 1.00000000e+00, 4.24869964e-11,\n",
       "        8.00000000e-01, 3.00000000e-01, 4.50000000e-01, 4.24869965e-11,\n",
       "        1.00000000e+00, 1.00000000e+00, 1.76440113e-24, 6.36917543e-20,\n",
       "        2.00000000e+00, 1.00000000e+00, 1.50000000e-01, 3.00000000e-01],\n",
       "       [8.63673125e-01, 1.33251570e-11, 1.59055120e-01, 8.63673125e-01,\n",
       "        4.54564891e-02, 1.59055008e-01, 5.22712085e-01, 9.54540496e-01,\n",
       "        9.99996931e-01, 9.99996931e-01, 2.26921097e-02, 2.27280760e-02,\n",
       "        3.68180491e+00, 8.18216559e-01, 1.81825957e-01, 6.81847115e-01],\n",
       "       [4.34785694e-02, 1.10774883e-10, 8.26086690e-01, 1.30435063e-01,\n",
       "        3.77639148e-11, 7.82608766e-01, 7.39130519e-01, 8.26087013e-01,\n",
       "        8.26087013e-01, 3.04348051e-01, 1.73912987e-01, 6.95652272e-01,\n",
       "        6.45240333e-07, 7.82608766e-01, 4.34782468e-02, 3.04348050e-01],\n",
       "       [2.85676046e-01, 8.30420072e-28, 9.28580988e-01, 2.48666006e-11,\n",
       "        4.28514069e-01, 3.57228717e-01, 5.00050515e-01, 1.43312756e-04,\n",
       "        1.43482184e-04, 6.42914586e-01, 2.14370581e-01, 1.74188775e-28,\n",
       "        6.07115133e+00, 7.14192537e-02, 7.14190115e-02, 7.14191810e-02]])"
      ]
     },
     "execution_count": 76,
     "metadata": {},
     "output_type": "execute_result"
    }
   ],
   "source": [
    "gm = GaussianMixture(n_components=Desired_comps, covariance_type='spherical', \n",
    "                     random_state=rng_seed).fit(Pure_data_2)\n",
    "gm.means_"
   ]
  },
  {
   "cell_type": "code",
   "execution_count": 77,
   "id": "f34e2a61",
   "metadata": {},
   "outputs": [
    {
     "data": {
      "text/plain": [
       "array([1, 1, 2, 1, 1, 1, 1, 2, 2, 1, 1, 0, 2, 2, 3, 3, 0, 1, 2, 2, 0, 0,\n",
       "       1, 0, 3, 1, 1, 1, 1, 1, 3, 1, 1, 0, 2, 1, 1, 0, 2, 3, 3, 0, 3, 0,\n",
       "       1, 1, 3, 1, 1, 1, 1, 3, 1, 3, 1, 1, 0, 0, 0, 0, 2, 2, 2, 1, 1, 1,\n",
       "       2, 1, 1, 1, 1, 0, 3, 2, 2, 1, 2, 2, 0, 0, 2, 2, 2, 0, 1, 3, 2, 0,\n",
       "       3, 1, 1, 1, 2, 1, 1, 0, 1, 3, 1, 2, 0])"
      ]
     },
     "execution_count": 77,
     "metadata": {},
     "output_type": "execute_result"
    }
   ],
   "source": [
    "gm.predict(Pure_data_2)"
   ]
  },
  {
   "cell_type": "code",
   "execution_count": 78,
   "id": "ba3fdb08",
   "metadata": {},
   "outputs": [
    {
     "data": {
      "text/plain": [
       "0.37623762376237624"
      ]
     },
     "execution_count": 78,
     "metadata": {},
     "output_type": "execute_result"
    }
   ],
   "source": [
    "score = metrics.accuracy_score(Target,gm.predict(Pure_data_2))\n",
    "score"
   ]
  },
  {
   "cell_type": "code",
   "execution_count": 79,
   "id": "5e350e3d",
   "metadata": {},
   "outputs": [
    {
     "data": {
      "text/plain": [
       "array([['0.3465346534653465', 'K_F'],\n",
       "       ['0.0', 'K_80'],\n",
       "       ['0.37623762376237624', 'GM_F']], dtype='<U32')"
      ]
     },
     "execution_count": 79,
     "metadata": {},
     "output_type": "execute_result"
    }
   ],
   "source": [
    "scores = np.vstack((scores, [score, 'GM_F']))\n",
    "scores"
   ]
  },
  {
   "cell_type": "markdown",
   "id": "a32b387c",
   "metadata": {},
   "source": [
    "#### Training and Prediction with 80/20 split"
   ]
  },
  {
   "cell_type": "code",
   "execution_count": 80,
   "id": "c2edaf4e",
   "metadata": {},
   "outputs": [
    {
     "data": {
      "text/plain": [
       "array([[5.91645979e-09, 9.99999994e-01, 9.99999994e-01, 5.91645979e-09,\n",
       "        7.50000001e-01, 3.12499998e-01, 4.99999997e-01, 5.91645980e-09,\n",
       "        1.00000000e+00, 1.00000000e+00, 1.66296068e-21, 2.86904363e-17,\n",
       "        2.00000000e+00, 1.00000000e+00, 1.87499999e-01, 2.49999999e-01],\n",
       "       [9.18181883e-01, 8.99679095e-15, 1.09641843e-01, 9.18181883e-01,\n",
       "        2.78237231e-02, 1.65288230e-01, 5.82644116e-01, 9.72176245e-01,\n",
       "        9.99999971e-01, 9.99999971e-01, 2.62778057e-02, 2.78226606e-02,\n",
       "        3.77741233e+00, 8.06886489e-01, 2.22589806e-01, 7.51239531e-01],\n",
       "       [5.88256489e-02, 1.63911489e-12, 7.64704160e-01, 1.76472443e-01,\n",
       "        2.14407672e-11, 8.82353206e-01, 8.23529809e-01, 8.82353206e-01,\n",
       "        8.82353206e-01, 2.35295840e-01, 1.76470191e-01, 7.64706412e-01,\n",
       "        4.50389807e-06, 8.23529809e-01, 5.88233969e-02, 2.94119237e-01],\n",
       "       [2.71262164e-01, 4.21677070e-27, 9.09579279e-01, 9.52123774e-11,\n",
       "        4.52103607e-01, 3.67054951e-01, 5.47896393e-01, 5.37216015e-03,\n",
       "        5.37216024e-03, 6.38317210e-01, 1.85865328e-01, 1.04849111e-25,\n",
       "        6.17009731e+00, 9.04223157e-02, 9.04207213e-02, 9.04207214e-02]])"
      ]
     },
     "execution_count": 80,
     "metadata": {},
     "output_type": "execute_result"
    }
   ],
   "source": [
    "gm = GaussianMixture(n_components=Desired_comps, covariance_type=Desired_cov, \n",
    "                     random_state=rng_seed).fit(Pure_data_2.iloc[:80,:])\n",
    "gm.means_"
   ]
  },
  {
   "cell_type": "code",
   "execution_count": 81,
   "id": "4200e48d",
   "metadata": {},
   "outputs": [
    {
     "data": {
      "text/plain": [
       "array([2, 2, 2, 0, 1, 3, 2, 0, 3, 1, 1, 1, 2, 1, 1, 0, 1, 3, 1, 2, 0])"
      ]
     },
     "execution_count": 81,
     "metadata": {},
     "output_type": "execute_result"
    }
   ],
   "source": [
    "gm.predict(Pure_data_2.iloc[80:,:])"
   ]
  },
  {
   "cell_type": "code",
   "execution_count": 82,
   "id": "8286e5cf",
   "metadata": {
    "scrolled": true
   },
   "outputs": [
    {
     "data": {
      "text/plain": [
       "0.23809523809523808"
      ]
     },
     "execution_count": 82,
     "metadata": {},
     "output_type": "execute_result"
    }
   ],
   "source": [
    "score = metrics.accuracy_score(Target.iloc[80:],gm.predict(Pure_data_2.iloc[80:,:]))\n",
    "score"
   ]
  },
  {
   "cell_type": "code",
   "execution_count": 83,
   "id": "4c13add8",
   "metadata": {},
   "outputs": [
    {
     "data": {
      "text/plain": [
       "array([['0.3465346534653465', 'K_F'],\n",
       "       ['0.0', 'K_80'],\n",
       "       ['0.37623762376237624', 'GM_F'],\n",
       "       ['0.23809523809523808', 'GM_80']], dtype='<U32')"
      ]
     },
     "execution_count": 83,
     "metadata": {},
     "output_type": "execute_result"
    }
   ],
   "source": [
    "scores = np.vstack((scores, [score, 'GM_80']))\n",
    "scores"
   ]
  },
  {
   "cell_type": "markdown",
   "id": "bb5ef8cb",
   "metadata": {},
   "source": [
    "### BayesianGaussianMixture"
   ]
  },
  {
   "cell_type": "markdown",
   "id": "d6a2fc72",
   "metadata": {},
   "source": [
    "#### Training and Prediction with full data set"
   ]
  },
  {
   "cell_type": "code",
   "execution_count": 84,
   "id": "a867135f",
   "metadata": {},
   "outputs": [
    {
     "data": {
      "text/plain": [
       "array([[2.02734559e-02, 9.61810467e-01, 9.80198020e-01, 1.93305045e-02,\n",
       "        7.73220179e-01, 3.02687412e-01, 4.54974069e-01, 2.87600189e-02,\n",
       "        9.91513437e-01, 9.90099010e-01, 3.77180575e-03, 8.01508722e-03,\n",
       "        2.04007544e+00, 9.87741631e-01, 1.48986327e-01, 3.06459217e-01],\n",
       "       [8.53911792e-01, 4.40047322e-03, 1.68530622e-01, 8.53471745e-01,\n",
       "        4.97253474e-02, 1.63470045e-01, 5.23429579e-01, 9.46753912e-01,\n",
       "        9.96039209e-01, 9.95379138e-01, 2.39762113e-02, 2.59627559e-02,\n",
       "        3.66314385e+00, 8.16507765e-01, 1.80639426e-01, 6.76352694e-01],\n",
       "       [5.94060043e-02, 8.25082454e-03, 8.16006545e-01, 1.41914250e-01,\n",
       "        9.90098943e-03, 7.64851501e-01, 7.31435662e-01, 8.16831696e-01,\n",
       "        8.25907603e-01, 3.24670013e-01, 1.69966985e-01, 6.73679890e-01,\n",
       "        1.18399467e-01, 7.80940609e-01, 4.70296998e-02, 3.09818529e-01],\n",
       "       [2.95042864e-01, 1.32010230e-02, 9.05612686e-01, 2.70620972e-02,\n",
       "        4.15832225e-01, 3.57110170e-01, 5.03639049e-01, 4.02867142e-02,\n",
       "        5.48078490e-02, 6.52814191e-01, 2.05295010e-01, 1.12208696e-02,\n",
       "        5.85606383e+00, 1.16169015e-01, 7.52458311e-02, 9.57074262e-02]])"
      ]
     },
     "execution_count": 84,
     "metadata": {},
     "output_type": "execute_result"
    }
   ],
   "source": [
    "from sklearn.mixture import BayesianGaussianMixture\n",
    "\n",
    "bgm = BayesianGaussianMixture(n_components=Desired_comps, covariance_type=Desired_cov, \n",
    "                              random_state=rng_seed).fit(Pure_data_2)\n",
    "bgm.means_"
   ]
  },
  {
   "cell_type": "code",
   "execution_count": 85,
   "id": "8ce280a0",
   "metadata": {},
   "outputs": [
    {
     "data": {
      "text/plain": [
       "array([1, 1, 2, 1, 1, 1, 1, 2, 2, 1, 1, 0, 2, 2, 3, 3, 0, 1, 2, 2, 0, 0,\n",
       "       1, 0, 3, 1, 1, 1, 1, 1, 3, 1, 1, 0, 2, 1, 1, 0, 2, 3, 3, 0, 3, 0,\n",
       "       1, 1, 3, 1, 1, 1, 1, 3, 1, 3, 1, 1, 0, 0, 0, 0, 2, 2, 2, 1, 1, 1,\n",
       "       2, 1, 1, 1, 1, 0, 3, 2, 2, 1, 2, 2, 0, 0, 2, 2, 2, 0, 1, 3, 2, 0,\n",
       "       3, 1, 1, 1, 2, 1, 1, 0, 1, 3, 1, 2, 0])"
      ]
     },
     "execution_count": 85,
     "metadata": {},
     "output_type": "execute_result"
    }
   ],
   "source": [
    "bgm.predict(Pure_data_2)"
   ]
  },
  {
   "cell_type": "code",
   "execution_count": 86,
   "id": "c1a3663f",
   "metadata": {},
   "outputs": [
    {
     "data": {
      "text/plain": [
       "0.37623762376237624"
      ]
     },
     "execution_count": 86,
     "metadata": {},
     "output_type": "execute_result"
    }
   ],
   "source": [
    "score = metrics.accuracy_score(Target,bgm.predict(Pure_data_2))\n",
    "score"
   ]
  },
  {
   "cell_type": "code",
   "execution_count": 87,
   "id": "e139781e",
   "metadata": {},
   "outputs": [
    {
     "data": {
      "text/plain": [
       "array([['0.3465346534653465', 'K_F'],\n",
       "       ['0.0', 'K_80'],\n",
       "       ['0.37623762376237624', 'GM_F'],\n",
       "       ['0.23809523809523808', 'GM_80'],\n",
       "       ['0.37623762376237624', 'BGM_F']], dtype='<U32')"
      ]
     },
     "execution_count": 87,
     "metadata": {},
     "output_type": "execute_result"
    }
   ],
   "source": [
    "scores = np.vstack((scores, [score, 'BGM_F']))\n",
    "scores"
   ]
  },
  {
   "cell_type": "markdown",
   "id": "c876f795",
   "metadata": {},
   "source": [
    "#### Training and Prediction with 80/20 split"
   ]
  },
  {
   "cell_type": "code",
   "execution_count": 88,
   "id": "256d4634",
   "metadata": {},
   "outputs": [
    {
     "data": {
      "text/plain": [
       "array([[2.72058826e-02, 9.52941176e-01, 9.72794117e-01, 2.64705885e-02,\n",
       "        7.19117647e-01, 3.16176470e-01, 5.06617647e-01, 3.67647062e-02,\n",
       "        9.90441176e-01, 9.87500000e-01, 4.41176470e-03, 1.02941176e-02,\n",
       "        2.05588235e+00, 9.85294118e-01, 1.86029412e-01, 2.62500000e-01],\n",
       "       [9.04728915e-01, 5.40742939e-03, 1.22308232e-01, 9.04390950e-01,\n",
       "        3.31205049e-02, 1.71987375e-01, 5.83965901e-01, 9.62823922e-01,\n",
       "        9.95606463e-01, 9.94254605e-01, 2.87130931e-02, 3.17670328e-02,\n",
       "        3.75531705e+00, 8.04353485e-01, 2.20690712e-01, 7.42506033e-01],\n",
       "       [8.12530486e-02, 1.11110742e-02, 7.52080838e-01, 1.91669349e-01,\n",
       "        1.24999585e-02, 8.54167151e-01, 8.11806180e-01, 8.68055993e-01,\n",
       "        8.79861510e-01, 2.65974658e-01, 1.70832766e-01, 7.31945334e-01,\n",
       "        1.63894982e-01, 8.19445044e-01, 6.45831190e-02, 3.03474533e-01],\n",
       "       [2.88210483e-01, 1.66475369e-02, 8.78264886e-01, 3.74569580e-02,\n",
       "        4.34916902e-01, 3.65312655e-01, 5.51556975e-01, 5.31713417e-02,\n",
       "        7.08593496e-02, 6.49361257e-01, 1.73801384e-01, 1.45665948e-02,\n",
       "        5.91030486e+00, 1.45666015e-01, 9.67638083e-02, 1.21735114e-01]])"
      ]
     },
     "execution_count": 88,
     "metadata": {},
     "output_type": "execute_result"
    }
   ],
   "source": [
    "bgm = BayesianGaussianMixture(n_components=Desired_comps, covariance_type=Desired_cov, \n",
    "                     random_state=rng_seed).fit(Pure_data_2.iloc[:80,:])\n",
    "bgm.means_"
   ]
  },
  {
   "cell_type": "code",
   "execution_count": 89,
   "id": "01f4df5d",
   "metadata": {},
   "outputs": [
    {
     "data": {
      "text/plain": [
       "array([2, 2, 2, 0, 1, 3, 2, 0, 3, 1, 1, 1, 2, 1, 1, 0, 1, 3, 1, 2, 0])"
      ]
     },
     "execution_count": 89,
     "metadata": {},
     "output_type": "execute_result"
    }
   ],
   "source": [
    "bgm.predict(Pure_data_2.iloc[80:,:])"
   ]
  },
  {
   "cell_type": "code",
   "execution_count": 90,
   "id": "5e36438c",
   "metadata": {},
   "outputs": [
    {
     "data": {
      "text/plain": [
       "0.23809523809523808"
      ]
     },
     "execution_count": 90,
     "metadata": {},
     "output_type": "execute_result"
    }
   ],
   "source": [
    "score = metrics.accuracy_score(Target.iloc[80:],bgm.predict(Pure_data_2.iloc[80:,:]))\n",
    "score"
   ]
  },
  {
   "cell_type": "code",
   "execution_count": 91,
   "id": "411be534",
   "metadata": {},
   "outputs": [
    {
     "data": {
      "text/plain": [
       "array([['0.3465346534653465', 'K_F'],\n",
       "       ['0.0', 'K_80'],\n",
       "       ['0.37623762376237624', 'GM_F'],\n",
       "       ['0.23809523809523808', 'GM_80'],\n",
       "       ['0.37623762376237624', 'BGM_F'],\n",
       "       ['0.23809523809523808', 'BGM_80']], dtype='<U32')"
      ]
     },
     "execution_count": 91,
     "metadata": {},
     "output_type": "execute_result"
    }
   ],
   "source": [
    "scores = np.vstack((scores, [score, 'BGM_80']))\n",
    "scores"
   ]
  },
  {
   "cell_type": "markdown",
   "id": "044e279b",
   "metadata": {},
   "source": [
    "## Random Forest"
   ]
  },
  {
   "cell_type": "markdown",
   "id": "03d850f7",
   "metadata": {},
   "source": [
    "#### Training and Prediction with full data set"
   ]
  },
  {
   "cell_type": "code",
   "execution_count": 92,
   "id": "4acf404a",
   "metadata": {},
   "outputs": [
    {
     "data": {
      "text/plain": [
       "array([1, 1, 4, 1, 1, 1, 1, 4, 4, 1, 1, 2, 4, 7, 7, 7, 2, 1, 4, 1, 2, 2,\n",
       "       1, 2, 6, 5, 5, 1, 1, 1, 6, 1, 1, 2, 4, 1, 1, 2, 4, 6, 6, 2, 6, 2,\n",
       "       1, 1, 7, 1, 1, 1, 1, 6, 5, 7, 1, 1, 2, 2, 2, 2, 4, 4, 3, 1, 1, 1,\n",
       "       1, 1, 1, 1, 1, 2, 7, 4, 1, 1, 3, 7, 2, 2, 3, 7, 4, 2, 1, 7, 4, 2,\n",
       "       6, 5, 3, 3, 4, 1, 1, 2, 1, 6, 1, 7, 2])"
      ]
     },
     "execution_count": 92,
     "metadata": {},
     "output_type": "execute_result"
    }
   ],
   "source": [
    "from sklearn.ensemble import RandomForestClassifier\n",
    "\n",
    "clf = RandomForestClassifier(max_depth=None\n",
    "                             ,random_state=rng_seed\n",
    "                            )\n",
    "clf.fit(Pure_data_2, Target)\n",
    "clf.predict(Pure_data_2)"
   ]
  },
  {
   "cell_type": "code",
   "execution_count": 93,
   "id": "89cd99e4",
   "metadata": {
    "scrolled": true
   },
   "outputs": [
    {
     "data": {
      "text/plain": [
       "1.0"
      ]
     },
     "execution_count": 93,
     "metadata": {},
     "output_type": "execute_result"
    }
   ],
   "source": [
    "score = metrics.accuracy_score(Target,clf.predict(Pure_data_2))\n",
    "score"
   ]
  },
  {
   "cell_type": "code",
   "execution_count": 94,
   "id": "750c9975",
   "metadata": {},
   "outputs": [
    {
     "data": {
      "text/plain": [
       "array([['0.3465346534653465', 'K_F'],\n",
       "       ['0.0', 'K_80'],\n",
       "       ['0.37623762376237624', 'GM_F'],\n",
       "       ['0.23809523809523808', 'GM_80'],\n",
       "       ['0.37623762376237624', 'BGM_F'],\n",
       "       ['0.23809523809523808', 'BGM_80'],\n",
       "       ['1.0', 'RF_F']], dtype='<U32')"
      ]
     },
     "execution_count": 94,
     "metadata": {},
     "output_type": "execute_result"
    }
   ],
   "source": [
    "scores = np.vstack((scores, [score, 'RF_F']))\n",
    "scores"
   ]
  },
  {
   "cell_type": "markdown",
   "id": "2ac30a92",
   "metadata": {},
   "source": [
    "#### Training and Prediction with 80/20 split"
   ]
  },
  {
   "cell_type": "code",
   "execution_count": 95,
   "id": "41bd0349",
   "metadata": {},
   "outputs": [
    {
     "data": {
      "text/plain": [
       "array([3, 6, 4, 2, 1, 7, 4, 2, 6, 5, 2, 5, 4, 1, 1, 2, 1, 6, 1, 6, 2])"
      ]
     },
     "execution_count": 95,
     "metadata": {},
     "output_type": "execute_result"
    }
   ],
   "source": [
    "clf = RandomForestClassifier(max_depth=None\n",
    "                             ,random_state=rng_seed\n",
    "                            )\n",
    "clf.fit(Pure_data_2.iloc[:80,:], Target.iloc[:80])\n",
    "clf.predict(Pure_data_2.iloc[80:,:])"
   ]
  },
  {
   "cell_type": "code",
   "execution_count": 96,
   "id": "408ea264",
   "metadata": {
    "scrolled": false
   },
   "outputs": [
    {
     "data": {
      "text/plain": [
       "0.8095238095238095"
      ]
     },
     "execution_count": 96,
     "metadata": {},
     "output_type": "execute_result"
    }
   ],
   "source": [
    "score = metrics.accuracy_score(Target.iloc[80:],clf.predict(Pure_data_2.iloc[80:,:]))\n",
    "score"
   ]
  },
  {
   "cell_type": "code",
   "execution_count": 97,
   "id": "e29bad2f",
   "metadata": {},
   "outputs": [
    {
     "data": {
      "text/plain": [
       "array([['0.3465346534653465', 'K_F'],\n",
       "       ['0.0', 'K_80'],\n",
       "       ['0.37623762376237624', 'GM_F'],\n",
       "       ['0.23809523809523808', 'GM_80'],\n",
       "       ['0.37623762376237624', 'BGM_F'],\n",
       "       ['0.23809523809523808', 'BGM_80'],\n",
       "       ['1.0', 'RF_F'],\n",
       "       ['0.8095238095238095', 'RF_80']], dtype='<U32')"
      ]
     },
     "execution_count": 97,
     "metadata": {},
     "output_type": "execute_result"
    }
   ],
   "source": [
    "scores = np.vstack((scores, [score, 'RF_80']))\n",
    "scores"
   ]
  },
  {
   "cell_type": "markdown",
   "id": "e28958db",
   "metadata": {},
   "source": [
    "#### Training and Prediction with 60/40 split"
   ]
  },
  {
   "cell_type": "code",
   "execution_count": 98,
   "id": "7fe5b93a",
   "metadata": {},
   "outputs": [
    {
     "data": {
      "text/plain": [
       "array([4, 4, 5, 1, 1, 1, 1, 1, 1, 1, 1, 2, 6, 4, 1, 1, 4, 7, 2, 2, 5, 6,\n",
       "       4, 2, 1, 7, 4, 2, 6, 5, 2, 5, 4, 1, 1, 2, 1, 6, 1, 6, 2])"
      ]
     },
     "execution_count": 98,
     "metadata": {},
     "output_type": "execute_result"
    }
   ],
   "source": [
    "clf = RandomForestClassifier(max_depth=None\n",
    "                             ,random_state=rng_seed\n",
    "                            )\n",
    "clf.fit(Pure_data_2.iloc[:60,:], Target.iloc[:60])\n",
    "clf.predict(Pure_data_2.iloc[60:,:])"
   ]
  },
  {
   "cell_type": "code",
   "execution_count": 99,
   "id": "32fc810e",
   "metadata": {
    "scrolled": false
   },
   "outputs": [
    {
     "data": {
      "text/plain": [
       "0.8048780487804879"
      ]
     },
     "execution_count": 99,
     "metadata": {},
     "output_type": "execute_result"
    }
   ],
   "source": [
    "score = metrics.accuracy_score(Target.iloc[60:],clf.predict(Pure_data_2.iloc[60:,:]))\n",
    "score"
   ]
  },
  {
   "cell_type": "code",
   "execution_count": 100,
   "id": "2ebfe5e3",
   "metadata": {},
   "outputs": [
    {
     "data": {
      "text/plain": [
       "array([['0.3465346534653465', 'K_F'],\n",
       "       ['0.0', 'K_80'],\n",
       "       ['0.37623762376237624', 'GM_F'],\n",
       "       ['0.23809523809523808', 'GM_80'],\n",
       "       ['0.37623762376237624', 'BGM_F'],\n",
       "       ['0.23809523809523808', 'BGM_80'],\n",
       "       ['1.0', 'RF_F'],\n",
       "       ['0.8095238095238095', 'RF_80'],\n",
       "       ['0.8048780487804879', 'RF_60']], dtype='<U32')"
      ]
     },
     "execution_count": 100,
     "metadata": {},
     "output_type": "execute_result"
    }
   ],
   "source": [
    "scores = np.vstack((scores, [score, 'RF_60']))\n",
    "scores"
   ]
  },
  {
   "cell_type": "markdown",
   "id": "68951f9f",
   "metadata": {},
   "source": [
    "### Tree Visualisation"
   ]
  },
  {
   "cell_type": "markdown",
   "id": "09f4f1b2",
   "metadata": {},
   "source": [
    "## Please do a pip install graphviz in your python terminal environment."
   ]
  },
  {
   "cell_type": "code",
   "execution_count": 101,
   "id": "6b491072",
   "metadata": {},
   "outputs": [],
   "source": [
    "from sklearn.tree import export_graphviz\n",
    "from IPython.display import Image\n",
    "import graphviz"
   ]
  },
  {
   "cell_type": "code",
   "execution_count": 102,
   "id": "6cca3e6f",
   "metadata": {},
   "outputs": [
    {
     "data": {
      "image/svg+xml": [
       "<?xml version=\"1.0\" encoding=\"UTF-8\" standalone=\"no\"?>\n",
       "<!DOCTYPE svg PUBLIC \"-//W3C//DTD SVG 1.1//EN\"\n",
       " \"http://www.w3.org/Graphics/SVG/1.1/DTD/svg11.dtd\">\n",
       "<!-- Generated by graphviz version 2.50.0 (0)\n",
       " -->\n",
       "<!-- Title: Tree Pages: 1 -->\n",
       "<svg width=\"1626pt\" height=\"402pt\"\n",
       " viewBox=\"0.00 0.00 1626.00 402.00\" xmlns=\"http://www.w3.org/2000/svg\" xmlns:xlink=\"http://www.w3.org/1999/xlink\">\n",
       "<g id=\"graph0\" class=\"graph\" transform=\"scale(1 1) rotate(0) translate(4 398)\">\n",
       "<title>Tree</title>\n",
       "<polygon fill=\"white\" stroke=\"transparent\" points=\"-4,4 -4,-398 1622,-398 1622,4 -4,4\"/>\n",
       "<!-- 0 -->\n",
       "<g id=\"node1\" class=\"node\">\n",
       "<title>0</title>\n",
       "<polygon fill=\"#f9e1d0\" stroke=\"black\" points=\"1005.5,-394 708.5,-394 708.5,-341 1005.5,-341 1005.5,-394\"/>\n",
       "<text text-anchor=\"middle\" x=\"857\" y=\"-378.8\" font-family=\"Helvetica,sans-Serif\" font-size=\"14.00\">legs &lt;= 3.0</text>\n",
       "<text text-anchor=\"middle\" x=\"857\" y=\"-363.8\" font-family=\"Helvetica,sans-Serif\" font-size=\"14.00\">samples = 100.0%</text>\n",
       "<text text-anchor=\"middle\" x=\"857\" y=\"-348.8\" font-family=\"Helvetica,sans-Serif\" font-size=\"14.00\">value = [0.417, 0.233, 0.133, 0.033, 0.083, 0.1]</text>\n",
       "</g>\n",
       "<!-- 1 -->\n",
       "<g id=\"node2\" class=\"node\">\n",
       "<title>1</title>\n",
       "<polygon fill=\"#e0f7c0\" stroke=\"black\" points=\"847.5,-305 566.5,-305 566.5,-252 847.5,-252 847.5,-305\"/>\n",
       "<text text-anchor=\"middle\" x=\"707\" y=\"-289.8\" font-family=\"Helvetica,sans-Serif\" font-size=\"14.00\">feathers &lt;= 0.5</text>\n",
       "<text text-anchor=\"middle\" x=\"707\" y=\"-274.8\" font-family=\"Helvetica,sans-Serif\" font-size=\"14.00\">samples = 42.9%</text>\n",
       "<text text-anchor=\"middle\" x=\"707\" y=\"-259.8\" font-family=\"Helvetica,sans-Serif\" font-size=\"14.00\">value = [0.111, 0.519, 0.296, 0.0, 0.0, 0.074]</text>\n",
       "</g>\n",
       "<!-- 0&#45;&gt;1 -->\n",
       "<g id=\"edge1\" class=\"edge\">\n",
       "<title>0&#45;&gt;1</title>\n",
       "<path fill=\"none\" stroke=\"black\" d=\"M812.81,-340.87C796.25,-331.26 777.27,-320.25 759.99,-310.24\"/>\n",
       "<polygon fill=\"black\" stroke=\"black\" points=\"761.54,-307.09 751.14,-305.1 758.03,-313.14 761.54,-307.09\"/>\n",
       "<text text-anchor=\"middle\" x=\"757.56\" y=\"-325.56\" font-family=\"Helvetica,sans-Serif\" font-size=\"14.00\">True</text>\n",
       "</g>\n",
       "<!-- 8 -->\n",
       "<g id=\"node9\" class=\"node\">\n",
       "<title>8</title>\n",
       "<polygon fill=\"#efb287\" stroke=\"black\" points=\"1148,-305 866,-305 866,-252 1148,-252 1148,-305\"/>\n",
       "<text text-anchor=\"middle\" x=\"1007\" y=\"-289.8\" font-family=\"Helvetica,sans-Serif\" font-size=\"14.00\">hair &lt;= 0.5</text>\n",
       "<text text-anchor=\"middle\" x=\"1007\" y=\"-274.8\" font-family=\"Helvetica,sans-Serif\" font-size=\"14.00\">samples = 57.1%</text>\n",
       "<text text-anchor=\"middle\" x=\"1007\" y=\"-259.8\" font-family=\"Helvetica,sans-Serif\" font-size=\"14.00\">value = [0.667, 0.0, 0.0, 0.061, 0.152, 0.121]</text>\n",
       "</g>\n",
       "<!-- 0&#45;&gt;8 -->\n",
       "<g id=\"edge8\" class=\"edge\">\n",
       "<title>0&#45;&gt;8</title>\n",
       "<path fill=\"none\" stroke=\"black\" d=\"M901.19,-340.87C917.75,-331.26 936.73,-320.25 954.01,-310.24\"/>\n",
       "<polygon fill=\"black\" stroke=\"black\" points=\"955.97,-313.14 962.86,-305.1 952.46,-307.09 955.97,-313.14\"/>\n",
       "<text text-anchor=\"middle\" x=\"956.44\" y=\"-325.56\" font-family=\"Helvetica,sans-Serif\" font-size=\"14.00\">False</text>\n",
       "</g>\n",
       "<!-- 2 -->\n",
       "<g id=\"node3\" class=\"node\">\n",
       "<title>2</title>\n",
       "<polygon fill=\"#9cf2c0\" stroke=\"black\" points=\"587.5,-216 320.5,-216 320.5,-163 587.5,-163 587.5,-216\"/>\n",
       "<text text-anchor=\"middle\" x=\"454\" y=\"-200.8\" font-family=\"Helvetica,sans-Serif\" font-size=\"14.00\">aquatic &lt;= 0.5</text>\n",
       "<text text-anchor=\"middle\" x=\"454\" y=\"-185.8\" font-family=\"Helvetica,sans-Serif\" font-size=\"14.00\">samples = 21.4%</text>\n",
       "<text text-anchor=\"middle\" x=\"454\" y=\"-170.8\" font-family=\"Helvetica,sans-Serif\" font-size=\"14.00\">value = [0.231, 0.0, 0.615, 0.0, 0.0, 0.154]</text>\n",
       "</g>\n",
       "<!-- 1&#45;&gt;2 -->\n",
       "<g id=\"edge2\" class=\"edge\">\n",
       "<title>1&#45;&gt;2</title>\n",
       "<path fill=\"none\" stroke=\"black\" d=\"M632.8,-251.98C603.07,-241.76 568.65,-229.93 538.01,-219.39\"/>\n",
       "<polygon fill=\"black\" stroke=\"black\" points=\"538.79,-215.96 528.2,-216.01 536.52,-222.58 538.79,-215.96\"/>\n",
       "</g>\n",
       "<!-- 7 -->\n",
       "<g id=\"node8\" class=\"node\">\n",
       "<title>7</title>\n",
       "<polygon fill=\"#9de539\" stroke=\"black\" points=\"828,-208.5 606,-208.5 606,-170.5 828,-170.5 828,-208.5\"/>\n",
       "<text text-anchor=\"middle\" x=\"717\" y=\"-193.3\" font-family=\"Helvetica,sans-Serif\" font-size=\"14.00\">samples = 21.4%</text>\n",
       "<text text-anchor=\"middle\" x=\"717\" y=\"-178.3\" font-family=\"Helvetica,sans-Serif\" font-size=\"14.00\">value = [0.0, 1.0, 0.0, 0.0, 0.0, 0.0]</text>\n",
       "</g>\n",
       "<!-- 1&#45;&gt;7 -->\n",
       "<g id=\"edge7\" class=\"edge\">\n",
       "<title>1&#45;&gt;7</title>\n",
       "<path fill=\"none\" stroke=\"black\" d=\"M709.95,-251.87C711.15,-241.42 712.54,-229.3 713.77,-218.61\"/>\n",
       "<polygon fill=\"black\" stroke=\"black\" points=\"717.27,-218.84 714.93,-208.51 710.31,-218.04 717.27,-218.84\"/>\n",
       "</g>\n",
       "<!-- 3 -->\n",
       "<g id=\"node4\" class=\"node\">\n",
       "<title>3</title>\n",
       "<polygon fill=\"#f6d5bd\" stroke=\"black\" points=\"334,-127 112,-127 112,-74 334,-74 334,-127\"/>\n",
       "<text text-anchor=\"middle\" x=\"223\" y=\"-111.8\" font-family=\"Helvetica,sans-Serif\" font-size=\"14.00\">legs &lt;= 1.0</text>\n",
       "<text text-anchor=\"middle\" x=\"223\" y=\"-96.8\" font-family=\"Helvetica,sans-Serif\" font-size=\"14.00\">samples = 9.5%</text>\n",
       "<text text-anchor=\"middle\" x=\"223\" y=\"-81.8\" font-family=\"Helvetica,sans-Serif\" font-size=\"14.00\">value = [0.6, 0.0, 0.0, 0.0, 0.0, 0.4]</text>\n",
       "</g>\n",
       "<!-- 2&#45;&gt;3 -->\n",
       "<g id=\"edge3\" class=\"edge\">\n",
       "<title>2&#45;&gt;3</title>\n",
       "<path fill=\"none\" stroke=\"black\" d=\"M386.25,-162.98C359.34,-152.85 328.23,-141.13 300.43,-130.66\"/>\n",
       "<polygon fill=\"black\" stroke=\"black\" points=\"301.34,-127.26 290.75,-127.01 298.87,-133.81 301.34,-127.26\"/>\n",
       "</g>\n",
       "<!-- 6 -->\n",
       "<g id=\"node7\" class=\"node\">\n",
       "<title>6</title>\n",
       "<polygon fill=\"#39e581\" stroke=\"black\" points=\"574,-119.5 352,-119.5 352,-81.5 574,-81.5 574,-119.5\"/>\n",
       "<text text-anchor=\"middle\" x=\"463\" y=\"-104.3\" font-family=\"Helvetica,sans-Serif\" font-size=\"14.00\">samples = 11.9%</text>\n",
       "<text text-anchor=\"middle\" x=\"463\" y=\"-89.3\" font-family=\"Helvetica,sans-Serif\" font-size=\"14.00\">value = [0.0, 0.0, 1.0, 0.0, 0.0, 0.0]</text>\n",
       "</g>\n",
       "<!-- 2&#45;&gt;6 -->\n",
       "<g id=\"edge6\" class=\"edge\">\n",
       "<title>2&#45;&gt;6</title>\n",
       "<path fill=\"none\" stroke=\"black\" d=\"M456.65,-162.87C457.73,-152.42 458.99,-140.3 460.09,-129.61\"/>\n",
       "<polygon fill=\"black\" stroke=\"black\" points=\"463.59,-129.81 461.14,-119.51 456.63,-129.09 463.59,-129.81\"/>\n",
       "</g>\n",
       "<!-- 4 -->\n",
       "<g id=\"node5\" class=\"node\">\n",
       "<title>4</title>\n",
       "<polygon fill=\"#e5399d\" stroke=\"black\" points=\"222,-38 0,-38 0,0 222,0 222,-38\"/>\n",
       "<text text-anchor=\"middle\" x=\"111\" y=\"-22.8\" font-family=\"Helvetica,sans-Serif\" font-size=\"14.00\">samples = 2.4%</text>\n",
       "<text text-anchor=\"middle\" x=\"111\" y=\"-7.8\" font-family=\"Helvetica,sans-Serif\" font-size=\"14.00\">value = [0.0, 0.0, 0.0, 0.0, 0.0, 1.0]</text>\n",
       "</g>\n",
       "<!-- 3&#45;&gt;4 -->\n",
       "<g id=\"edge4\" class=\"edge\">\n",
       "<title>3&#45;&gt;4</title>\n",
       "<path fill=\"none\" stroke=\"black\" d=\"M186.95,-73.91C173.52,-64.38 158.33,-53.59 145.08,-44.19\"/>\n",
       "<polygon fill=\"black\" stroke=\"black\" points=\"146.88,-41.17 136.7,-38.24 142.82,-46.88 146.88,-41.17\"/>\n",
       "</g>\n",
       "<!-- 5 -->\n",
       "<g id=\"node6\" class=\"node\">\n",
       "<title>5</title>\n",
       "<polygon fill=\"#e58139\" stroke=\"black\" points=\"462,-38 240,-38 240,0 462,0 462,-38\"/>\n",
       "<text text-anchor=\"middle\" x=\"351\" y=\"-22.8\" font-family=\"Helvetica,sans-Serif\" font-size=\"14.00\">samples = 7.1%</text>\n",
       "<text text-anchor=\"middle\" x=\"351\" y=\"-7.8\" font-family=\"Helvetica,sans-Serif\" font-size=\"14.00\">value = [1.0, 0.0, 0.0, 0.0, 0.0, 0.0]</text>\n",
       "</g>\n",
       "<!-- 3&#45;&gt;5 -->\n",
       "<g id=\"edge5\" class=\"edge\">\n",
       "<title>3&#45;&gt;5</title>\n",
       "<path fill=\"none\" stroke=\"black\" d=\"M264.2,-73.91C279.84,-64.19 297.57,-53.18 312.91,-43.66\"/>\n",
       "<polygon fill=\"black\" stroke=\"black\" points=\"314.99,-46.49 321.63,-38.24 311.29,-40.54 314.99,-46.49\"/>\n",
       "</g>\n",
       "<!-- 9 -->\n",
       "<g id=\"node10\" class=\"node\">\n",
       "<title>9</title>\n",
       "<polygon fill=\"#fbdeef\" stroke=\"black\" points=\"1131.5,-216 864.5,-216 864.5,-163 1131.5,-163 1131.5,-216\"/>\n",
       "<text text-anchor=\"middle\" x=\"998\" y=\"-200.8\" font-family=\"Helvetica,sans-Serif\" font-size=\"14.00\">airborne &lt;= 0.5</text>\n",
       "<text text-anchor=\"middle\" x=\"998\" y=\"-185.8\" font-family=\"Helvetica,sans-Serif\" font-size=\"14.00\">samples = 14.3%</text>\n",
       "<text text-anchor=\"middle\" x=\"998\" y=\"-170.8\" font-family=\"Helvetica,sans-Serif\" font-size=\"14.00\">value = [0.0, 0.0, 0.0, 0.222, 0.333, 0.444]</text>\n",
       "</g>\n",
       "<!-- 8&#45;&gt;9 -->\n",
       "<g id=\"edge9\" class=\"edge\">\n",
       "<title>8&#45;&gt;9</title>\n",
       "<path fill=\"none\" stroke=\"black\" d=\"M1004.35,-251.87C1003.52,-243.89 1002.6,-234.93 1001.71,-226.38\"/>\n",
       "<polygon fill=\"black\" stroke=\"black\" points=\"1005.17,-225.84 1000.66,-216.25 998.21,-226.56 1005.17,-225.84\"/>\n",
       "</g>\n",
       "<!-- 14 -->\n",
       "<g id=\"node15\" class=\"node\">\n",
       "<title>14</title>\n",
       "<polygon fill=\"#e78c4b\" stroke=\"black\" points=\"1402,-216 1150,-216 1150,-163 1402,-163 1402,-216\"/>\n",
       "<text text-anchor=\"middle\" x=\"1276\" y=\"-200.8\" font-family=\"Helvetica,sans-Serif\" font-size=\"14.00\">toothed &lt;= 0.5</text>\n",
       "<text text-anchor=\"middle\" x=\"1276\" y=\"-185.8\" font-family=\"Helvetica,sans-Serif\" font-size=\"14.00\">samples = 42.9%</text>\n",
       "<text text-anchor=\"middle\" x=\"1276\" y=\"-170.8\" font-family=\"Helvetica,sans-Serif\" font-size=\"14.00\">value = [0.917, 0.0, 0.0, 0.0, 0.083, 0.0]</text>\n",
       "</g>\n",
       "<!-- 8&#45;&gt;14 -->\n",
       "<g id=\"edge14\" class=\"edge\">\n",
       "<title>8&#45;&gt;14</title>\n",
       "<path fill=\"none\" stroke=\"black\" d=\"M1085.89,-251.98C1117.78,-241.67 1154.73,-229.72 1187.53,-219.11\"/>\n",
       "<polygon fill=\"black\" stroke=\"black\" points=\"1188.67,-222.42 1197.11,-216.01 1186.52,-215.76 1188.67,-222.42\"/>\n",
       "</g>\n",
       "<!-- 10 -->\n",
       "<g id=\"node11\" class=\"node\">\n",
       "<title>10</title>\n",
       "<polygon fill=\"#f29cce\" stroke=\"black\" points=\"880,-127 628,-127 628,-74 880,-74 880,-127\"/>\n",
       "<text text-anchor=\"middle\" x=\"754\" y=\"-111.8\" font-family=\"Helvetica,sans-Serif\" font-size=\"14.00\">breathes &lt;= 0.5</text>\n",
       "<text text-anchor=\"middle\" x=\"754\" y=\"-96.8\" font-family=\"Helvetica,sans-Serif\" font-size=\"14.00\">samples = 9.5%</text>\n",
       "<text text-anchor=\"middle\" x=\"754\" y=\"-81.8\" font-family=\"Helvetica,sans-Serif\" font-size=\"14.00\">value = [0.0, 0.0, 0.0, 0.333, 0.0, 0.667]</text>\n",
       "</g>\n",
       "<!-- 9&#45;&gt;10 -->\n",
       "<g id=\"edge10\" class=\"edge\">\n",
       "<title>9&#45;&gt;10</title>\n",
       "<path fill=\"none\" stroke=\"black\" d=\"M926.44,-162.98C897.76,-152.76 864.57,-140.93 835.02,-130.39\"/>\n",
       "<polygon fill=\"black\" stroke=\"black\" points=\"836.15,-127.08 825.56,-127.01 833.8,-133.67 836.15,-127.08\"/>\n",
       "</g>\n",
       "<!-- 13 -->\n",
       "<g id=\"node14\" class=\"node\">\n",
       "<title>13</title>\n",
       "<polygon fill=\"#8139e5\" stroke=\"black\" points=\"1120,-119.5 898,-119.5 898,-81.5 1120,-81.5 1120,-119.5\"/>\n",
       "<text text-anchor=\"middle\" x=\"1009\" y=\"-104.3\" font-family=\"Helvetica,sans-Serif\" font-size=\"14.00\">samples = 4.8%</text>\n",
       "<text text-anchor=\"middle\" x=\"1009\" y=\"-89.3\" font-family=\"Helvetica,sans-Serif\" font-size=\"14.00\">value = [0.0, 0.0, 0.0, 0.0, 1.0, 0.0]</text>\n",
       "</g>\n",
       "<!-- 9&#45;&gt;13 -->\n",
       "<g id=\"edge13\" class=\"edge\">\n",
       "<title>9&#45;&gt;13</title>\n",
       "<path fill=\"none\" stroke=\"black\" d=\"M1001.24,-162.87C1002.56,-152.42 1004.09,-140.3 1005.45,-129.61\"/>\n",
       "<polygon fill=\"black\" stroke=\"black\" points=\"1008.94,-129.87 1006.72,-119.51 1002,-128.99 1008.94,-129.87\"/>\n",
       "</g>\n",
       "<!-- 11 -->\n",
       "<g id=\"node12\" class=\"node\">\n",
       "<title>11</title>\n",
       "<polygon fill=\"#e5399d\" stroke=\"black\" points=\"765,-38 543,-38 543,0 765,0 765,-38\"/>\n",
       "<text text-anchor=\"middle\" x=\"654\" y=\"-22.8\" font-family=\"Helvetica,sans-Serif\" font-size=\"14.00\">samples = 7.1%</text>\n",
       "<text text-anchor=\"middle\" x=\"654\" y=\"-7.8\" font-family=\"Helvetica,sans-Serif\" font-size=\"14.00\">value = [0.0, 0.0, 0.0, 0.0, 0.0, 1.0]</text>\n",
       "</g>\n",
       "<!-- 10&#45;&gt;11 -->\n",
       "<g id=\"edge11\" class=\"edge\">\n",
       "<title>10&#45;&gt;11</title>\n",
       "<path fill=\"none\" stroke=\"black\" d=\"M721.81,-73.91C710.05,-64.56 696.77,-54 685.11,-44.73\"/>\n",
       "<polygon fill=\"black\" stroke=\"black\" points=\"686.95,-41.72 676.94,-38.24 682.59,-47.2 686.95,-41.72\"/>\n",
       "</g>\n",
       "<!-- 12 -->\n",
       "<g id=\"node13\" class=\"node\">\n",
       "<title>12</title>\n",
       "<polygon fill=\"#399de5\" stroke=\"black\" points=\"1005,-38 783,-38 783,0 1005,0 1005,-38\"/>\n",
       "<text text-anchor=\"middle\" x=\"894\" y=\"-22.8\" font-family=\"Helvetica,sans-Serif\" font-size=\"14.00\">samples = 2.4%</text>\n",
       "<text text-anchor=\"middle\" x=\"894\" y=\"-7.8\" font-family=\"Helvetica,sans-Serif\" font-size=\"14.00\">value = [0.0, 0.0, 0.0, 1.0, 0.0, 0.0]</text>\n",
       "</g>\n",
       "<!-- 10&#45;&gt;12 -->\n",
       "<g id=\"edge12\" class=\"edge\">\n",
       "<title>10&#45;&gt;12</title>\n",
       "<path fill=\"none\" stroke=\"black\" d=\"M799.07,-73.91C816.33,-64.1 835.93,-52.98 852.81,-43.39\"/>\n",
       "<polygon fill=\"black\" stroke=\"black\" points=\"854.91,-46.22 861.88,-38.24 851.46,-40.13 854.91,-46.22\"/>\n",
       "</g>\n",
       "<!-- 15 -->\n",
       "<g id=\"node16\" class=\"node\">\n",
       "<title>15</title>\n",
       "<polygon fill=\"#8139e5\" stroke=\"black\" points=\"1378,-119.5 1156,-119.5 1156,-81.5 1378,-81.5 1378,-119.5\"/>\n",
       "<text text-anchor=\"middle\" x=\"1267\" y=\"-104.3\" font-family=\"Helvetica,sans-Serif\" font-size=\"14.00\">samples = 4.8%</text>\n",
       "<text text-anchor=\"middle\" x=\"1267\" y=\"-89.3\" font-family=\"Helvetica,sans-Serif\" font-size=\"14.00\">value = [0.0, 0.0, 0.0, 0.0, 1.0, 0.0]</text>\n",
       "</g>\n",
       "<!-- 14&#45;&gt;15 -->\n",
       "<g id=\"edge15\" class=\"edge\">\n",
       "<title>14&#45;&gt;15</title>\n",
       "<path fill=\"none\" stroke=\"black\" d=\"M1273.35,-162.87C1272.27,-152.42 1271.01,-140.3 1269.91,-129.61\"/>\n",
       "<polygon fill=\"black\" stroke=\"black\" points=\"1273.37,-129.09 1268.86,-119.51 1266.41,-129.81 1273.37,-129.09\"/>\n",
       "</g>\n",
       "<!-- 16 -->\n",
       "<g id=\"node17\" class=\"node\">\n",
       "<title>16</title>\n",
       "<polygon fill=\"#e58139\" stroke=\"black\" points=\"1618,-119.5 1396,-119.5 1396,-81.5 1618,-81.5 1618,-119.5\"/>\n",
       "<text text-anchor=\"middle\" x=\"1507\" y=\"-104.3\" font-family=\"Helvetica,sans-Serif\" font-size=\"14.00\">samples = 38.1%</text>\n",
       "<text text-anchor=\"middle\" x=\"1507\" y=\"-89.3\" font-family=\"Helvetica,sans-Serif\" font-size=\"14.00\">value = [1.0, 0.0, 0.0, 0.0, 0.0, 0.0]</text>\n",
       "</g>\n",
       "<!-- 14&#45;&gt;16 -->\n",
       "<g id=\"edge16\" class=\"edge\">\n",
       "<title>14&#45;&gt;16</title>\n",
       "<path fill=\"none\" stroke=\"black\" d=\"M1343.75,-162.98C1377.29,-150.35 1417.35,-135.27 1449.39,-123.2\"/>\n",
       "<polygon fill=\"black\" stroke=\"black\" points=\"1450.94,-126.35 1459.06,-119.55 1448.47,-119.8 1450.94,-126.35\"/>\n",
       "</g>\n",
       "</g>\n",
       "</svg>\n"
      ],
      "text/plain": [
       "<graphviz.sources.Source at 0x7fe3111a6160>"
      ]
     },
     "metadata": {},
     "output_type": "display_data"
    },
    {
     "data": {
      "image/svg+xml": [
       "<?xml version=\"1.0\" encoding=\"UTF-8\" standalone=\"no\"?>\n",
       "<!DOCTYPE svg PUBLIC \"-//W3C//DTD SVG 1.1//EN\"\n",
       " \"http://www.w3.org/Graphics/SVG/1.1/DTD/svg11.dtd\">\n",
       "<!-- Generated by graphviz version 2.50.0 (0)\n",
       " -->\n",
       "<!-- Title: Tree Pages: 1 -->\n",
       "<svg width=\"1224pt\" height=\"402pt\"\n",
       " viewBox=\"0.00 0.00 1224.00 402.00\" xmlns=\"http://www.w3.org/2000/svg\" xmlns:xlink=\"http://www.w3.org/1999/xlink\">\n",
       "<g id=\"graph0\" class=\"graph\" transform=\"scale(1 1) rotate(0) translate(4 398)\">\n",
       "<title>Tree</title>\n",
       "<polygon fill=\"white\" stroke=\"transparent\" points=\"-4,4 -4,-398 1220,-398 1220,4 -4,4\"/>\n",
       "<!-- 0 -->\n",
       "<g id=\"node1\" class=\"node\">\n",
       "<title>0</title>\n",
       "<polygon fill=\"#f7d9c3\" stroke=\"black\" points=\"621,-394 339,-394 339,-341 621,-341 621,-394\"/>\n",
       "<text text-anchor=\"middle\" x=\"480\" y=\"-378.8\" font-family=\"Helvetica,sans-Serif\" font-size=\"14.00\">eggs &lt;= 0.5</text>\n",
       "<text text-anchor=\"middle\" x=\"480\" y=\"-363.8\" font-family=\"Helvetica,sans-Serif\" font-size=\"14.00\">samples = 100.0%</text>\n",
       "<text text-anchor=\"middle\" x=\"480\" y=\"-348.8\" font-family=\"Helvetica,sans-Serif\" font-size=\"14.00\">value = [0.467, 0.233, 0.1, 0.0, 0.083, 0.117]</text>\n",
       "</g>\n",
       "<!-- 1 -->\n",
       "<g id=\"node2\" class=\"node\">\n",
       "<title>1</title>\n",
       "<polygon fill=\"#e58139\" stroke=\"black\" points=\"456,-297.5 234,-297.5 234,-259.5 456,-259.5 456,-297.5\"/>\n",
       "<text text-anchor=\"middle\" x=\"345\" y=\"-282.3\" font-family=\"Helvetica,sans-Serif\" font-size=\"14.00\">samples = 44.7%</text>\n",
       "<text text-anchor=\"middle\" x=\"345\" y=\"-267.3\" font-family=\"Helvetica,sans-Serif\" font-size=\"14.00\">value = [1.0, 0.0, 0.0, 0.0, 0.0, 0.0]</text>\n",
       "</g>\n",
       "<!-- 0&#45;&gt;1 -->\n",
       "<g id=\"edge1\" class=\"edge\">\n",
       "<title>0&#45;&gt;1</title>\n",
       "<path fill=\"none\" stroke=\"black\" d=\"M440.23,-340.87C421.64,-328.89 399.67,-314.73 381.52,-303.03\"/>\n",
       "<polygon fill=\"black\" stroke=\"black\" points=\"383.24,-299.98 372.94,-297.51 379.45,-305.87 383.24,-299.98\"/>\n",
       "<text text-anchor=\"middle\" x=\"378.22\" y=\"-318.24\" font-family=\"Helvetica,sans-Serif\" font-size=\"14.00\">True</text>\n",
       "</g>\n",
       "<!-- 2 -->\n",
       "<g id=\"node3\" class=\"node\">\n",
       "<title>2</title>\n",
       "<polygon fill=\"#e4f8c8\" stroke=\"black\" points=\"756,-305 474,-305 474,-252 756,-252 756,-305\"/>\n",
       "<text text-anchor=\"middle\" x=\"615\" y=\"-289.8\" font-family=\"Helvetica,sans-Serif\" font-size=\"14.00\">aquatic &lt;= 0.5</text>\n",
       "<text text-anchor=\"middle\" x=\"615\" y=\"-274.8\" font-family=\"Helvetica,sans-Serif\" font-size=\"14.00\">samples = 55.3%</text>\n",
       "<text text-anchor=\"middle\" x=\"615\" y=\"-259.8\" font-family=\"Helvetica,sans-Serif\" font-size=\"14.00\">value = [0.0, 0.438, 0.188, 0.0, 0.156, 0.219]</text>\n",
       "</g>\n",
       "<!-- 0&#45;&gt;2 -->\n",
       "<g id=\"edge2\" class=\"edge\">\n",
       "<title>0&#45;&gt;2</title>\n",
       "<path fill=\"none\" stroke=\"black\" d=\"M519.77,-340.87C534.34,-331.48 550.99,-320.75 566.25,-310.92\"/>\n",
       "<polygon fill=\"black\" stroke=\"black\" points=\"568.53,-313.61 575.04,-305.25 564.74,-307.72 568.53,-313.61\"/>\n",
       "<text text-anchor=\"middle\" x=\"569.76\" y=\"-325.99\" font-family=\"Helvetica,sans-Serif\" font-size=\"14.00\">False</text>\n",
       "</g>\n",
       "<!-- 3 -->\n",
       "<g id=\"node4\" class=\"node\">\n",
       "<title>3</title>\n",
       "<polygon fill=\"#d6f4ac\" stroke=\"black\" points=\"609.5,-216 342.5,-216 342.5,-163 609.5,-163 609.5,-216\"/>\n",
       "<text text-anchor=\"middle\" x=\"476\" y=\"-200.8\" font-family=\"Helvetica,sans-Serif\" font-size=\"14.00\">tail &lt;= 0.5</text>\n",
       "<text text-anchor=\"middle\" x=\"476\" y=\"-185.8\" font-family=\"Helvetica,sans-Serif\" font-size=\"14.00\">samples = 28.9%</text>\n",
       "<text text-anchor=\"middle\" x=\"476\" y=\"-170.8\" font-family=\"Helvetica,sans-Serif\" font-size=\"14.00\">value = [0.0, 0.588, 0.0, 0.0, 0.294, 0.118]</text>\n",
       "</g>\n",
       "<!-- 2&#45;&gt;3 -->\n",
       "<g id=\"edge3\" class=\"edge\">\n",
       "<title>2&#45;&gt;3</title>\n",
       "<path fill=\"none\" stroke=\"black\" d=\"M574.05,-251.87C558.91,-242.39 541.59,-231.55 525.76,-221.64\"/>\n",
       "<polygon fill=\"black\" stroke=\"black\" points=\"527.47,-218.59 517.14,-216.25 523.76,-224.52 527.47,-218.59\"/>\n",
       "</g>\n",
       "<!-- 8 -->\n",
       "<g id=\"node9\" class=\"node\">\n",
       "<title>8</title>\n",
       "<polygon fill=\"#ebfcf2\" stroke=\"black\" points=\"880,-216 628,-216 628,-163 880,-163 880,-216\"/>\n",
       "<text text-anchor=\"middle\" x=\"754\" y=\"-200.8\" font-family=\"Helvetica,sans-Serif\" font-size=\"14.00\">backbone &lt;= 0.5</text>\n",
       "<text text-anchor=\"middle\" x=\"754\" y=\"-185.8\" font-family=\"Helvetica,sans-Serif\" font-size=\"14.00\">samples = 26.3%</text>\n",
       "<text text-anchor=\"middle\" x=\"754\" y=\"-170.8\" font-family=\"Helvetica,sans-Serif\" font-size=\"14.00\">value = [0.0, 0.267, 0.4, 0.0, 0.0, 0.333]</text>\n",
       "</g>\n",
       "<!-- 2&#45;&gt;8 -->\n",
       "<g id=\"edge8\" class=\"edge\">\n",
       "<title>2&#45;&gt;8</title>\n",
       "<path fill=\"none\" stroke=\"black\" d=\"M655.95,-251.87C671.09,-242.39 688.41,-231.55 704.24,-221.64\"/>\n",
       "<polygon fill=\"black\" stroke=\"black\" points=\"706.24,-224.52 712.86,-216.25 702.53,-218.59 706.24,-224.52\"/>\n",
       "</g>\n",
       "<!-- 4 -->\n",
       "<g id=\"node5\" class=\"node\">\n",
       "<title>4</title>\n",
       "<polygon fill=\"#b388ef\" stroke=\"black\" points=\"357,-127 105,-127 105,-74 357,-74 357,-127\"/>\n",
       "<text text-anchor=\"middle\" x=\"231\" y=\"-111.8\" font-family=\"Helvetica,sans-Serif\" font-size=\"14.00\">legs &lt;= 3.0</text>\n",
       "<text text-anchor=\"middle\" x=\"231\" y=\"-96.8\" font-family=\"Helvetica,sans-Serif\" font-size=\"14.00\">samples = 13.2%</text>\n",
       "<text text-anchor=\"middle\" x=\"231\" y=\"-81.8\" font-family=\"Helvetica,sans-Serif\" font-size=\"14.00\">value = [0.0, 0.0, 0.0, 0.0, 0.714, 0.286]</text>\n",
       "</g>\n",
       "<!-- 3&#45;&gt;4 -->\n",
       "<g id=\"edge4\" class=\"edge\">\n",
       "<title>3&#45;&gt;4</title>\n",
       "<path fill=\"none\" stroke=\"black\" d=\"M404.15,-162.98C375.35,-152.76 342.03,-140.93 312.35,-130.39\"/>\n",
       "<polygon fill=\"black\" stroke=\"black\" points=\"313.45,-127.06 302.85,-127.01 311.1,-133.66 313.45,-127.06\"/>\n",
       "</g>\n",
       "<!-- 7 -->\n",
       "<g id=\"node8\" class=\"node\">\n",
       "<title>7</title>\n",
       "<polygon fill=\"#9de539\" stroke=\"black\" points=\"597,-119.5 375,-119.5 375,-81.5 597,-81.5 597,-119.5\"/>\n",
       "<text text-anchor=\"middle\" x=\"486\" y=\"-104.3\" font-family=\"Helvetica,sans-Serif\" font-size=\"14.00\">samples = 15.8%</text>\n",
       "<text text-anchor=\"middle\" x=\"486\" y=\"-89.3\" font-family=\"Helvetica,sans-Serif\" font-size=\"14.00\">value = [0.0, 1.0, 0.0, 0.0, 0.0, 0.0]</text>\n",
       "</g>\n",
       "<!-- 3&#45;&gt;7 -->\n",
       "<g id=\"edge7\" class=\"edge\">\n",
       "<title>3&#45;&gt;7</title>\n",
       "<path fill=\"none\" stroke=\"black\" d=\"M478.95,-162.87C480.15,-152.42 481.54,-140.3 482.77,-129.61\"/>\n",
       "<polygon fill=\"black\" stroke=\"black\" points=\"486.27,-129.84 483.93,-119.51 479.31,-129.04 486.27,-129.84\"/>\n",
       "</g>\n",
       "<!-- 5 -->\n",
       "<g id=\"node6\" class=\"node\">\n",
       "<title>5</title>\n",
       "<polygon fill=\"#e5399d\" stroke=\"black\" points=\"222,-38 0,-38 0,0 222,0 222,-38\"/>\n",
       "<text text-anchor=\"middle\" x=\"111\" y=\"-22.8\" font-family=\"Helvetica,sans-Serif\" font-size=\"14.00\">samples = 2.6%</text>\n",
       "<text text-anchor=\"middle\" x=\"111\" y=\"-7.8\" font-family=\"Helvetica,sans-Serif\" font-size=\"14.00\">value = [0.0, 0.0, 0.0, 0.0, 0.0, 1.0]</text>\n",
       "</g>\n",
       "<!-- 4&#45;&gt;5 -->\n",
       "<g id=\"edge5\" class=\"edge\">\n",
       "<title>4&#45;&gt;5</title>\n",
       "<path fill=\"none\" stroke=\"black\" d=\"M192.37,-73.91C177.85,-64.29 161.4,-53.39 147.11,-43.92\"/>\n",
       "<polygon fill=\"black\" stroke=\"black\" points=\"148.8,-40.84 138.53,-38.24 144.93,-46.68 148.8,-40.84\"/>\n",
       "</g>\n",
       "<!-- 6 -->\n",
       "<g id=\"node7\" class=\"node\">\n",
       "<title>6</title>\n",
       "<polygon fill=\"#8139e5\" stroke=\"black\" points=\"462,-38 240,-38 240,0 462,0 462,-38\"/>\n",
       "<text text-anchor=\"middle\" x=\"351\" y=\"-22.8\" font-family=\"Helvetica,sans-Serif\" font-size=\"14.00\">samples = 10.5%</text>\n",
       "<text text-anchor=\"middle\" x=\"351\" y=\"-7.8\" font-family=\"Helvetica,sans-Serif\" font-size=\"14.00\">value = [0.0, 0.0, 0.0, 0.0, 1.0, 0.0]</text>\n",
       "</g>\n",
       "<!-- 4&#45;&gt;6 -->\n",
       "<g id=\"edge6\" class=\"edge\">\n",
       "<title>4&#45;&gt;6</title>\n",
       "<path fill=\"none\" stroke=\"black\" d=\"M269.63,-73.91C284.15,-64.29 300.6,-53.39 314.89,-43.92\"/>\n",
       "<polygon fill=\"black\" stroke=\"black\" points=\"317.07,-46.68 323.47,-38.24 313.2,-40.84 317.07,-46.68\"/>\n",
       "</g>\n",
       "<!-- 9 -->\n",
       "<g id=\"node10\" class=\"node\">\n",
       "<title>9</title>\n",
       "<polygon fill=\"#e5399d\" stroke=\"black\" points=\"856,-119.5 634,-119.5 634,-81.5 856,-81.5 856,-119.5\"/>\n",
       "<text text-anchor=\"middle\" x=\"745\" y=\"-104.3\" font-family=\"Helvetica,sans-Serif\" font-size=\"14.00\">samples = 7.9%</text>\n",
       "<text text-anchor=\"middle\" x=\"745\" y=\"-89.3\" font-family=\"Helvetica,sans-Serif\" font-size=\"14.00\">value = [0.0, 0.0, 0.0, 0.0, 0.0, 1.0]</text>\n",
       "</g>\n",
       "<!-- 8&#45;&gt;9 -->\n",
       "<g id=\"edge9\" class=\"edge\">\n",
       "<title>8&#45;&gt;9</title>\n",
       "<path fill=\"none\" stroke=\"black\" d=\"M751.35,-162.87C750.27,-152.42 749.01,-140.3 747.91,-129.61\"/>\n",
       "<polygon fill=\"black\" stroke=\"black\" points=\"751.37,-129.09 746.86,-119.51 744.41,-129.81 751.37,-129.09\"/>\n",
       "</g>\n",
       "<!-- 10 -->\n",
       "<g id=\"node11\" class=\"node\">\n",
       "<title>10</title>\n",
       "<polygon fill=\"#bdf6d5\" stroke=\"black\" points=\"1096,-127 874,-127 874,-74 1096,-74 1096,-127\"/>\n",
       "<text text-anchor=\"middle\" x=\"985\" y=\"-111.8\" font-family=\"Helvetica,sans-Serif\" font-size=\"14.00\">legs &lt;= 1.0</text>\n",
       "<text text-anchor=\"middle\" x=\"985\" y=\"-96.8\" font-family=\"Helvetica,sans-Serif\" font-size=\"14.00\">samples = 18.4%</text>\n",
       "<text text-anchor=\"middle\" x=\"985\" y=\"-81.8\" font-family=\"Helvetica,sans-Serif\" font-size=\"14.00\">value = [0.0, 0.4, 0.6, 0.0, 0.0, 0.0]</text>\n",
       "</g>\n",
       "<!-- 8&#45;&gt;10 -->\n",
       "<g id=\"edge10\" class=\"edge\">\n",
       "<title>8&#45;&gt;10</title>\n",
       "<path fill=\"none\" stroke=\"black\" d=\"M821.75,-162.98C848.66,-152.85 879.77,-141.13 907.57,-130.66\"/>\n",
       "<polygon fill=\"black\" stroke=\"black\" points=\"909.13,-133.81 917.25,-127.01 906.66,-127.26 909.13,-133.81\"/>\n",
       "</g>\n",
       "<!-- 11 -->\n",
       "<g id=\"node12\" class=\"node\">\n",
       "<title>11</title>\n",
       "<polygon fill=\"#39e581\" stroke=\"black\" points=\"976,-38 754,-38 754,0 976,0 976,-38\"/>\n",
       "<text text-anchor=\"middle\" x=\"865\" y=\"-22.8\" font-family=\"Helvetica,sans-Serif\" font-size=\"14.00\">samples = 13.2%</text>\n",
       "<text text-anchor=\"middle\" x=\"865\" y=\"-7.8\" font-family=\"Helvetica,sans-Serif\" font-size=\"14.00\">value = [0.0, 0.0, 1.0, 0.0, 0.0, 0.0]</text>\n",
       "</g>\n",
       "<!-- 10&#45;&gt;11 -->\n",
       "<g id=\"edge11\" class=\"edge\">\n",
       "<title>10&#45;&gt;11</title>\n",
       "<path fill=\"none\" stroke=\"black\" d=\"M946.37,-73.91C931.85,-64.29 915.4,-53.39 901.11,-43.92\"/>\n",
       "<polygon fill=\"black\" stroke=\"black\" points=\"902.8,-40.84 892.53,-38.24 898.93,-46.68 902.8,-40.84\"/>\n",
       "</g>\n",
       "<!-- 12 -->\n",
       "<g id=\"node13\" class=\"node\">\n",
       "<title>12</title>\n",
       "<polygon fill=\"#9de539\" stroke=\"black\" points=\"1216,-38 994,-38 994,0 1216,0 1216,-38\"/>\n",
       "<text text-anchor=\"middle\" x=\"1105\" y=\"-22.8\" font-family=\"Helvetica,sans-Serif\" font-size=\"14.00\">samples = 5.3%</text>\n",
       "<text text-anchor=\"middle\" x=\"1105\" y=\"-7.8\" font-family=\"Helvetica,sans-Serif\" font-size=\"14.00\">value = [0.0, 1.0, 0.0, 0.0, 0.0, 0.0]</text>\n",
       "</g>\n",
       "<!-- 10&#45;&gt;12 -->\n",
       "<g id=\"edge12\" class=\"edge\">\n",
       "<title>10&#45;&gt;12</title>\n",
       "<path fill=\"none\" stroke=\"black\" d=\"M1023.63,-73.91C1038.15,-64.29 1054.6,-53.39 1068.89,-43.92\"/>\n",
       "<polygon fill=\"black\" stroke=\"black\" points=\"1071.07,-46.68 1077.47,-38.24 1067.2,-40.84 1071.07,-46.68\"/>\n",
       "</g>\n",
       "</g>\n",
       "</svg>\n"
      ],
      "text/plain": [
       "<graphviz.sources.Source at 0x7fe3002b5910>"
      ]
     },
     "metadata": {},
     "output_type": "display_data"
    },
    {
     "data": {
      "image/svg+xml": [
       "<?xml version=\"1.0\" encoding=\"UTF-8\" standalone=\"no\"?>\n",
       "<!DOCTYPE svg PUBLIC \"-//W3C//DTD SVG 1.1//EN\"\n",
       " \"http://www.w3.org/Graphics/SVG/1.1/DTD/svg11.dtd\">\n",
       "<!-- Generated by graphviz version 2.50.0 (0)\n",
       " -->\n",
       "<!-- Title: Tree Pages: 1 -->\n",
       "<svg width=\"1707pt\" height=\"402pt\"\n",
       " viewBox=\"0.00 0.00 1707.00 402.00\" xmlns=\"http://www.w3.org/2000/svg\" xmlns:xlink=\"http://www.w3.org/1999/xlink\">\n",
       "<g id=\"graph0\" class=\"graph\" transform=\"scale(1 1) rotate(0) translate(4 398)\">\n",
       "<title>Tree</title>\n",
       "<polygon fill=\"white\" stroke=\"transparent\" points=\"-4,4 -4,-398 1703,-398 1703,4 -4,4\"/>\n",
       "<!-- 0 -->\n",
       "<g id=\"node1\" class=\"node\">\n",
       "<title>0</title>\n",
       "<polygon fill=\"#fbebdf\" stroke=\"black\" points=\"1354,-394 1064,-394 1064,-341 1354,-341 1354,-394\"/>\n",
       "<text text-anchor=\"middle\" x=\"1209\" y=\"-378.8\" font-family=\"Helvetica,sans-Serif\" font-size=\"14.00\">hair &lt;= 0.5</text>\n",
       "<text text-anchor=\"middle\" x=\"1209\" y=\"-363.8\" font-family=\"Helvetica,sans-Serif\" font-size=\"14.00\">samples = 100.0%</text>\n",
       "<text text-anchor=\"middle\" x=\"1209\" y=\"-348.8\" font-family=\"Helvetica,sans-Serif\" font-size=\"14.00\">value = [0.383, 0.267, 0.117, 0.083, 0.1, 0.05]</text>\n",
       "</g>\n",
       "<!-- 1 -->\n",
       "<g id=\"node2\" class=\"node\">\n",
       "<title>1</title>\n",
       "<polygon fill=\"#def6bd\" stroke=\"black\" points=\"1215,-305 903,-305 903,-252 1215,-252 1215,-305\"/>\n",
       "<text text-anchor=\"middle\" x=\"1059\" y=\"-289.8\" font-family=\"Helvetica,sans-Serif\" font-size=\"14.00\">fins &lt;= 0.5</text>\n",
       "<text text-anchor=\"middle\" x=\"1059\" y=\"-274.8\" font-family=\"Helvetica,sans-Serif\" font-size=\"14.00\">samples = 52.4%</text>\n",
       "<text text-anchor=\"middle\" x=\"1059\" y=\"-259.8\" font-family=\"Helvetica,sans-Serif\" font-size=\"14.00\">value = [0.029, 0.471, 0.206, 0.147, 0.059, 0.088]</text>\n",
       "</g>\n",
       "<!-- 0&#45;&gt;1 -->\n",
       "<g id=\"edge1\" class=\"edge\">\n",
       "<title>0&#45;&gt;1</title>\n",
       "<path fill=\"none\" stroke=\"black\" d=\"M1164.81,-340.87C1148.25,-331.26 1129.27,-320.25 1111.99,-310.24\"/>\n",
       "<polygon fill=\"black\" stroke=\"black\" points=\"1113.54,-307.09 1103.14,-305.1 1110.03,-313.14 1113.54,-307.09\"/>\n",
       "<text text-anchor=\"middle\" x=\"1109.56\" y=\"-325.56\" font-family=\"Helvetica,sans-Serif\" font-size=\"14.00\">True</text>\n",
       "</g>\n",
       "<!-- 14 -->\n",
       "<g id=\"node15\" class=\"node\">\n",
       "<title>14</title>\n",
       "<polygon fill=\"#ea985d\" stroke=\"black\" points=\"1485,-305 1233,-305 1233,-252 1485,-252 1485,-305\"/>\n",
       "<text text-anchor=\"middle\" x=\"1359\" y=\"-289.8\" font-family=\"Helvetica,sans-Serif\" font-size=\"14.00\">legs &lt;= 5.0</text>\n",
       "<text text-anchor=\"middle\" x=\"1359\" y=\"-274.8\" font-family=\"Helvetica,sans-Serif\" font-size=\"14.00\">samples = 47.6%</text>\n",
       "<text text-anchor=\"middle\" x=\"1359\" y=\"-259.8\" font-family=\"Helvetica,sans-Serif\" font-size=\"14.00\">value = [0.846, 0.0, 0.0, 0.0, 0.154, 0.0]</text>\n",
       "</g>\n",
       "<!-- 0&#45;&gt;14 -->\n",
       "<g id=\"edge14\" class=\"edge\">\n",
       "<title>0&#45;&gt;14</title>\n",
       "<path fill=\"none\" stroke=\"black\" d=\"M1253.19,-340.87C1269.75,-331.26 1288.73,-320.25 1306.01,-310.24\"/>\n",
       "<polygon fill=\"black\" stroke=\"black\" points=\"1307.97,-313.14 1314.86,-305.1 1304.46,-307.09 1307.97,-313.14\"/>\n",
       "<text text-anchor=\"middle\" x=\"1308.44\" y=\"-325.56\" font-family=\"Helvetica,sans-Serif\" font-size=\"14.00\">False</text>\n",
       "</g>\n",
       "<!-- 2 -->\n",
       "<g id=\"node3\" class=\"node\">\n",
       "<title>2</title>\n",
       "<polygon fill=\"#ccf197\" stroke=\"black\" points=\"837,-216 555,-216 555,-163 837,-163 837,-216\"/>\n",
       "<text text-anchor=\"middle\" x=\"696\" y=\"-200.8\" font-family=\"Helvetica,sans-Serif\" font-size=\"14.00\">backbone &lt;= 0.5</text>\n",
       "<text text-anchor=\"middle\" x=\"696\" y=\"-185.8\" font-family=\"Helvetica,sans-Serif\" font-size=\"14.00\">samples = 38.1%</text>\n",
       "<text text-anchor=\"middle\" x=\"696\" y=\"-170.8\" font-family=\"Helvetica,sans-Serif\" font-size=\"14.00\">value = [0.0, 0.615, 0.0, 0.192, 0.077, 0.115]</text>\n",
       "</g>\n",
       "<!-- 1&#45;&gt;2 -->\n",
       "<g id=\"edge2\" class=\"edge\">\n",
       "<title>1&#45;&gt;2</title>\n",
       "<path fill=\"none\" stroke=\"black\" d=\"M952.54,-251.98C908.49,-241.43 857.29,-229.16 812.26,-218.36\"/>\n",
       "<polygon fill=\"black\" stroke=\"black\" points=\"813,-214.94 802.46,-216.01 811.37,-221.75 813,-214.94\"/>\n",
       "</g>\n",
       "<!-- 9 -->\n",
       "<g id=\"node10\" class=\"node\">\n",
       "<title>9</title>\n",
       "<polygon fill=\"#55e993\" stroke=\"black\" points=\"1197,-216 945,-216 945,-163 1197,-163 1197,-216\"/>\n",
       "<text text-anchor=\"middle\" x=\"1071\" y=\"-200.8\" font-family=\"Helvetica,sans-Serif\" font-size=\"14.00\">domestic &lt;= 0.5</text>\n",
       "<text text-anchor=\"middle\" x=\"1071\" y=\"-185.8\" font-family=\"Helvetica,sans-Serif\" font-size=\"14.00\">samples = 14.3%</text>\n",
       "<text text-anchor=\"middle\" x=\"1071\" y=\"-170.8\" font-family=\"Helvetica,sans-Serif\" font-size=\"14.00\">value = [0.125, 0.0, 0.875, 0.0, 0.0, 0.0]</text>\n",
       "</g>\n",
       "<!-- 1&#45;&gt;9 -->\n",
       "<g id=\"edge9\" class=\"edge\">\n",
       "<title>1&#45;&gt;9</title>\n",
       "<path fill=\"none\" stroke=\"black\" d=\"M1062.54,-251.87C1063.64,-243.89 1064.87,-234.93 1066.05,-226.38\"/>\n",
       "<polygon fill=\"black\" stroke=\"black\" points=\"1069.55,-226.63 1067.45,-216.25 1062.61,-225.68 1069.55,-226.63\"/>\n",
       "</g>\n",
       "<!-- 3 -->\n",
       "<g id=\"node4\" class=\"node\">\n",
       "<title>3</title>\n",
       "<polygon fill=\"#f6bdde\" stroke=\"black\" points=\"462,-127 240,-127 240,-74 462,-74 462,-127\"/>\n",
       "<text text-anchor=\"middle\" x=\"351\" y=\"-111.8\" font-family=\"Helvetica,sans-Serif\" font-size=\"14.00\">airborne &lt;= 0.5</text>\n",
       "<text text-anchor=\"middle\" x=\"351\" y=\"-96.8\" font-family=\"Helvetica,sans-Serif\" font-size=\"14.00\">samples = 9.5%</text>\n",
       "<text text-anchor=\"middle\" x=\"351\" y=\"-81.8\" font-family=\"Helvetica,sans-Serif\" font-size=\"14.00\">value = [0.0, 0.0, 0.0, 0.0, 0.4, 0.6]</text>\n",
       "</g>\n",
       "<!-- 2&#45;&gt;3 -->\n",
       "<g id=\"edge3\" class=\"edge\">\n",
       "<title>2&#45;&gt;3</title>\n",
       "<path fill=\"none\" stroke=\"black\" d=\"M594.82,-162.98C553.13,-152.47 504.7,-140.26 462.04,-129.5\"/>\n",
       "<polygon fill=\"black\" stroke=\"black\" points=\"462.73,-126.07 452.18,-127.01 461.02,-132.85 462.73,-126.07\"/>\n",
       "</g>\n",
       "<!-- 6 -->\n",
       "<g id=\"node7\" class=\"node\">\n",
       "<title>6</title>\n",
       "<polygon fill=\"#bced77\" stroke=\"black\" points=\"822,-127 570,-127 570,-74 822,-74 822,-127\"/>\n",
       "<text text-anchor=\"middle\" x=\"696\" y=\"-111.8\" font-family=\"Helvetica,sans-Serif\" font-size=\"14.00\">legs &lt;= 3.0</text>\n",
       "<text text-anchor=\"middle\" x=\"696\" y=\"-96.8\" font-family=\"Helvetica,sans-Serif\" font-size=\"14.00\">samples = 28.6%</text>\n",
       "<text text-anchor=\"middle\" x=\"696\" y=\"-81.8\" font-family=\"Helvetica,sans-Serif\" font-size=\"14.00\">value = [0.0, 0.762, 0.0, 0.238, 0.0, 0.0]</text>\n",
       "</g>\n",
       "<!-- 2&#45;&gt;6 -->\n",
       "<g id=\"edge6\" class=\"edge\">\n",
       "<title>2&#45;&gt;6</title>\n",
       "<path fill=\"none\" stroke=\"black\" d=\"M696,-162.87C696,-154.89 696,-145.93 696,-137.38\"/>\n",
       "<polygon fill=\"black\" stroke=\"black\" points=\"699.5,-137.25 696,-127.25 692.5,-137.25 699.5,-137.25\"/>\n",
       "</g>\n",
       "<!-- 4 -->\n",
       "<g id=\"node5\" class=\"node\">\n",
       "<title>4</title>\n",
       "<polygon fill=\"#e5399d\" stroke=\"black\" points=\"222,-38 0,-38 0,0 222,0 222,-38\"/>\n",
       "<text text-anchor=\"middle\" x=\"111\" y=\"-22.8\" font-family=\"Helvetica,sans-Serif\" font-size=\"14.00\">samples = 4.8%</text>\n",
       "<text text-anchor=\"middle\" x=\"111\" y=\"-7.8\" font-family=\"Helvetica,sans-Serif\" font-size=\"14.00\">value = [0.0, 0.0, 0.0, 0.0, 0.0, 1.0]</text>\n",
       "</g>\n",
       "<!-- 3&#45;&gt;4 -->\n",
       "<g id=\"edge4\" class=\"edge\">\n",
       "<title>3&#45;&gt;4</title>\n",
       "<path fill=\"none\" stroke=\"black\" d=\"M273.74,-73.91C241.96,-63.38 205.59,-51.33 175.29,-41.3\"/>\n",
       "<polygon fill=\"black\" stroke=\"black\" points=\"176.28,-37.94 165.69,-38.12 174.08,-44.58 176.28,-37.94\"/>\n",
       "</g>\n",
       "<!-- 5 -->\n",
       "<g id=\"node6\" class=\"node\">\n",
       "<title>5</title>\n",
       "<polygon fill=\"#8139e5\" stroke=\"black\" points=\"462,-38 240,-38 240,0 462,0 462,-38\"/>\n",
       "<text text-anchor=\"middle\" x=\"351\" y=\"-22.8\" font-family=\"Helvetica,sans-Serif\" font-size=\"14.00\">samples = 4.8%</text>\n",
       "<text text-anchor=\"middle\" x=\"351\" y=\"-7.8\" font-family=\"Helvetica,sans-Serif\" font-size=\"14.00\">value = [0.0, 0.0, 0.0, 0.0, 1.0, 0.0]</text>\n",
       "</g>\n",
       "<!-- 3&#45;&gt;5 -->\n",
       "<g id=\"edge5\" class=\"edge\">\n",
       "<title>3&#45;&gt;5</title>\n",
       "<path fill=\"none\" stroke=\"black\" d=\"M351,-73.91C351,-65.74 351,-56.65 351,-48.3\"/>\n",
       "<polygon fill=\"black\" stroke=\"black\" points=\"354.5,-48.24 351,-38.24 347.5,-48.24 354.5,-48.24\"/>\n",
       "</g>\n",
       "<!-- 7 -->\n",
       "<g id=\"node8\" class=\"node\">\n",
       "<title>7</title>\n",
       "<polygon fill=\"#9de539\" stroke=\"black\" points=\"702,-38 480,-38 480,0 702,0 702,-38\"/>\n",
       "<text text-anchor=\"middle\" x=\"591\" y=\"-22.8\" font-family=\"Helvetica,sans-Serif\" font-size=\"14.00\">samples = 21.4%</text>\n",
       "<text text-anchor=\"middle\" x=\"591\" y=\"-7.8\" font-family=\"Helvetica,sans-Serif\" font-size=\"14.00\">value = [0.0, 1.0, 0.0, 0.0, 0.0, 0.0]</text>\n",
       "</g>\n",
       "<!-- 6&#45;&gt;7 -->\n",
       "<g id=\"edge7\" class=\"edge\">\n",
       "<title>6&#45;&gt;7</title>\n",
       "<path fill=\"none\" stroke=\"black\" d=\"M662.2,-73.91C649.73,-64.47 635.64,-53.8 623.31,-44.46\"/>\n",
       "<polygon fill=\"black\" stroke=\"black\" points=\"625.17,-41.48 615.09,-38.24 620.95,-47.07 625.17,-41.48\"/>\n",
       "</g>\n",
       "<!-- 8 -->\n",
       "<g id=\"node9\" class=\"node\">\n",
       "<title>8</title>\n",
       "<polygon fill=\"#399de5\" stroke=\"black\" points=\"942,-38 720,-38 720,0 942,0 942,-38\"/>\n",
       "<text text-anchor=\"middle\" x=\"831\" y=\"-22.8\" font-family=\"Helvetica,sans-Serif\" font-size=\"14.00\">samples = 7.1%</text>\n",
       "<text text-anchor=\"middle\" x=\"831\" y=\"-7.8\" font-family=\"Helvetica,sans-Serif\" font-size=\"14.00\">value = [0.0, 0.0, 0.0, 1.0, 0.0, 0.0]</text>\n",
       "</g>\n",
       "<!-- 6&#45;&gt;8 -->\n",
       "<g id=\"edge8\" class=\"edge\">\n",
       "<title>6&#45;&gt;8</title>\n",
       "<path fill=\"none\" stroke=\"black\" d=\"M739.46,-73.91C756.11,-64.1 775,-52.98 791.28,-43.39\"/>\n",
       "<polygon fill=\"black\" stroke=\"black\" points=\"793.19,-46.33 800.03,-38.24 789.64,-40.3 793.19,-46.33\"/>\n",
       "</g>\n",
       "<!-- 10 -->\n",
       "<g id=\"node11\" class=\"node\">\n",
       "<title>10</title>\n",
       "<polygon fill=\"#5ae996\" stroke=\"black\" points=\"1197,-127 945,-127 945,-74 1197,-74 1197,-127\"/>\n",
       "<text text-anchor=\"middle\" x=\"1071\" y=\"-111.8\" font-family=\"Helvetica,sans-Serif\" font-size=\"14.00\">milk &lt;= 0.5</text>\n",
       "<text text-anchor=\"middle\" x=\"1071\" y=\"-96.8\" font-family=\"Helvetica,sans-Serif\" font-size=\"14.00\">samples = 11.9%</text>\n",
       "<text text-anchor=\"middle\" x=\"1071\" y=\"-81.8\" font-family=\"Helvetica,sans-Serif\" font-size=\"14.00\">value = [0.143, 0.0, 0.857, 0.0, 0.0, 0.0]</text>\n",
       "</g>\n",
       "<!-- 9&#45;&gt;10 -->\n",
       "<g id=\"edge10\" class=\"edge\">\n",
       "<title>9&#45;&gt;10</title>\n",
       "<path fill=\"none\" stroke=\"black\" d=\"M1071,-162.87C1071,-154.89 1071,-145.93 1071,-137.38\"/>\n",
       "<polygon fill=\"black\" stroke=\"black\" points=\"1074.5,-137.25 1071,-127.25 1067.5,-137.25 1074.5,-137.25\"/>\n",
       "</g>\n",
       "<!-- 13 -->\n",
       "<g id=\"node14\" class=\"node\">\n",
       "<title>13</title>\n",
       "<polygon fill=\"#39e581\" stroke=\"black\" points=\"1437,-119.5 1215,-119.5 1215,-81.5 1437,-81.5 1437,-119.5\"/>\n",
       "<text text-anchor=\"middle\" x=\"1326\" y=\"-104.3\" font-family=\"Helvetica,sans-Serif\" font-size=\"14.00\">samples = 2.4%</text>\n",
       "<text text-anchor=\"middle\" x=\"1326\" y=\"-89.3\" font-family=\"Helvetica,sans-Serif\" font-size=\"14.00\">value = [0.0, 0.0, 1.0, 0.0, 0.0, 0.0]</text>\n",
       "</g>\n",
       "<!-- 9&#45;&gt;13 -->\n",
       "<g id=\"edge13\" class=\"edge\">\n",
       "<title>9&#45;&gt;13</title>\n",
       "<path fill=\"none\" stroke=\"black\" d=\"M1145.79,-162.98C1183.13,-150.24 1227.8,-135.01 1263.32,-122.89\"/>\n",
       "<polygon fill=\"black\" stroke=\"black\" points=\"1264.75,-126.1 1273.08,-119.55 1262.49,-119.47 1264.75,-126.1\"/>\n",
       "</g>\n",
       "<!-- 11 -->\n",
       "<g id=\"node12\" class=\"node\">\n",
       "<title>11</title>\n",
       "<polygon fill=\"#39e581\" stroke=\"black\" points=\"1182,-38 960,-38 960,0 1182,0 1182,-38\"/>\n",
       "<text text-anchor=\"middle\" x=\"1071\" y=\"-22.8\" font-family=\"Helvetica,sans-Serif\" font-size=\"14.00\">samples = 9.5%</text>\n",
       "<text text-anchor=\"middle\" x=\"1071\" y=\"-7.8\" font-family=\"Helvetica,sans-Serif\" font-size=\"14.00\">value = [0.0, 0.0, 1.0, 0.0, 0.0, 0.0]</text>\n",
       "</g>\n",
       "<!-- 10&#45;&gt;11 -->\n",
       "<g id=\"edge11\" class=\"edge\">\n",
       "<title>10&#45;&gt;11</title>\n",
       "<path fill=\"none\" stroke=\"black\" d=\"M1071,-73.91C1071,-65.74 1071,-56.65 1071,-48.3\"/>\n",
       "<polygon fill=\"black\" stroke=\"black\" points=\"1074.5,-48.24 1071,-38.24 1067.5,-48.24 1074.5,-48.24\"/>\n",
       "</g>\n",
       "<!-- 12 -->\n",
       "<g id=\"node13\" class=\"node\">\n",
       "<title>12</title>\n",
       "<polygon fill=\"#e58139\" stroke=\"black\" points=\"1422,-38 1200,-38 1200,0 1422,0 1422,-38\"/>\n",
       "<text text-anchor=\"middle\" x=\"1311\" y=\"-22.8\" font-family=\"Helvetica,sans-Serif\" font-size=\"14.00\">samples = 2.4%</text>\n",
       "<text text-anchor=\"middle\" x=\"1311\" y=\"-7.8\" font-family=\"Helvetica,sans-Serif\" font-size=\"14.00\">value = [1.0, 0.0, 0.0, 0.0, 0.0, 0.0]</text>\n",
       "</g>\n",
       "<!-- 10&#45;&gt;12 -->\n",
       "<g id=\"edge12\" class=\"edge\">\n",
       "<title>10&#45;&gt;12</title>\n",
       "<path fill=\"none\" stroke=\"black\" d=\"M1148.26,-73.91C1180.04,-63.38 1216.41,-51.33 1246.71,-41.3\"/>\n",
       "<polygon fill=\"black\" stroke=\"black\" points=\"1247.92,-44.58 1256.31,-38.12 1245.72,-37.94 1247.92,-44.58\"/>\n",
       "</g>\n",
       "<!-- 15 -->\n",
       "<g id=\"node16\" class=\"node\">\n",
       "<title>15</title>\n",
       "<polygon fill=\"#e58139\" stroke=\"black\" points=\"1459,-208.5 1237,-208.5 1237,-170.5 1459,-170.5 1459,-208.5\"/>\n",
       "<text text-anchor=\"middle\" x=\"1348\" y=\"-193.3\" font-family=\"Helvetica,sans-Serif\" font-size=\"14.00\">samples = 40.5%</text>\n",
       "<text text-anchor=\"middle\" x=\"1348\" y=\"-178.3\" font-family=\"Helvetica,sans-Serif\" font-size=\"14.00\">value = [1.0, 0.0, 0.0, 0.0, 0.0, 0.0]</text>\n",
       "</g>\n",
       "<!-- 14&#45;&gt;15 -->\n",
       "<g id=\"edge15\" class=\"edge\">\n",
       "<title>14&#45;&gt;15</title>\n",
       "<path fill=\"none\" stroke=\"black\" d=\"M1355.76,-251.87C1354.44,-241.42 1352.91,-229.3 1351.55,-218.61\"/>\n",
       "<polygon fill=\"black\" stroke=\"black\" points=\"1355,-217.99 1350.28,-208.51 1348.06,-218.87 1355,-217.99\"/>\n",
       "</g>\n",
       "<!-- 16 -->\n",
       "<g id=\"node17\" class=\"node\">\n",
       "<title>16</title>\n",
       "<polygon fill=\"#8139e5\" stroke=\"black\" points=\"1699,-208.5 1477,-208.5 1477,-170.5 1699,-170.5 1699,-208.5\"/>\n",
       "<text text-anchor=\"middle\" x=\"1588\" y=\"-193.3\" font-family=\"Helvetica,sans-Serif\" font-size=\"14.00\">samples = 7.1%</text>\n",
       "<text text-anchor=\"middle\" x=\"1588\" y=\"-178.3\" font-family=\"Helvetica,sans-Serif\" font-size=\"14.00\">value = [0.0, 0.0, 0.0, 0.0, 1.0, 0.0]</text>\n",
       "</g>\n",
       "<!-- 14&#45;&gt;16 -->\n",
       "<g id=\"edge16\" class=\"edge\">\n",
       "<title>14&#45;&gt;16</title>\n",
       "<path fill=\"none\" stroke=\"black\" d=\"M1426.16,-251.98C1459.41,-239.35 1499.12,-224.27 1530.89,-212.2\"/>\n",
       "<polygon fill=\"black\" stroke=\"black\" points=\"1532.37,-215.38 1540.48,-208.55 1529.88,-208.83 1532.37,-215.38\"/>\n",
       "</g>\n",
       "</g>\n",
       "</svg>\n"
      ],
      "text/plain": [
       "<graphviz.sources.Source at 0x7fe3110a6a00>"
      ]
     },
     "metadata": {},
     "output_type": "display_data"
    }
   ],
   "source": [
    "for i in range(3):\n",
    "    tree = clf.estimators_[i]\n",
    "    dot_data = export_graphviz(tree,\n",
    "                               feature_names=Pure_data_2.columns,  \n",
    "                               filled=True,  \n",
    "                               max_depth=16, \n",
    "                               impurity=False, \n",
    "                               proportion=True)\n",
    "    graph = graphviz.Source(dot_data)\n",
    "    display(graph)"
   ]
  },
  {
   "cell_type": "code",
   "execution_count": 103,
   "id": "4deb2d12",
   "metadata": {
    "scrolled": true
   },
   "outputs": [
    {
     "data": {
      "text/html": [
       "<div>\n",
       "<style scoped>\n",
       "    .dataframe tbody tr th:only-of-type {\n",
       "        vertical-align: middle;\n",
       "    }\n",
       "\n",
       "    .dataframe tbody tr th {\n",
       "        vertical-align: top;\n",
       "    }\n",
       "\n",
       "    .dataframe thead th {\n",
       "        text-align: right;\n",
       "    }\n",
       "</style>\n",
       "<table border=\"1\" class=\"dataframe\">\n",
       "  <thead>\n",
       "    <tr style=\"text-align: right;\">\n",
       "      <th></th>\n",
       "      <th>0</th>\n",
       "      <th>1</th>\n",
       "    </tr>\n",
       "  </thead>\n",
       "  <tbody>\n",
       "    <tr>\n",
       "      <th>0</th>\n",
       "      <td>0.3465346534653465</td>\n",
       "      <td>K_F</td>\n",
       "    </tr>\n",
       "    <tr>\n",
       "      <th>1</th>\n",
       "      <td>0.0</td>\n",
       "      <td>K_80</td>\n",
       "    </tr>\n",
       "    <tr>\n",
       "      <th>2</th>\n",
       "      <td>0.37623762376237624</td>\n",
       "      <td>GM_F</td>\n",
       "    </tr>\n",
       "    <tr>\n",
       "      <th>3</th>\n",
       "      <td>0.23809523809523808</td>\n",
       "      <td>GM_80</td>\n",
       "    </tr>\n",
       "    <tr>\n",
       "      <th>4</th>\n",
       "      <td>0.37623762376237624</td>\n",
       "      <td>BGM_F</td>\n",
       "    </tr>\n",
       "    <tr>\n",
       "      <th>5</th>\n",
       "      <td>0.23809523809523808</td>\n",
       "      <td>BGM_80</td>\n",
       "    </tr>\n",
       "    <tr>\n",
       "      <th>6</th>\n",
       "      <td>1.0</td>\n",
       "      <td>RF_F</td>\n",
       "    </tr>\n",
       "    <tr>\n",
       "      <th>7</th>\n",
       "      <td>0.8095238095238095</td>\n",
       "      <td>RF_80</td>\n",
       "    </tr>\n",
       "    <tr>\n",
       "      <th>8</th>\n",
       "      <td>0.8048780487804879</td>\n",
       "      <td>RF_60</td>\n",
       "    </tr>\n",
       "  </tbody>\n",
       "</table>\n",
       "</div>"
      ],
      "text/plain": [
       "                     0       1\n",
       "0   0.3465346534653465     K_F\n",
       "1                  0.0    K_80\n",
       "2  0.37623762376237624    GM_F\n",
       "3  0.23809523809523808   GM_80\n",
       "4  0.37623762376237624   BGM_F\n",
       "5  0.23809523809523808  BGM_80\n",
       "6                  1.0    RF_F\n",
       "7   0.8095238095238095   RF_80\n",
       "8   0.8048780487804879   RF_60"
      ]
     },
     "execution_count": 103,
     "metadata": {},
     "output_type": "execute_result"
    }
   ],
   "source": [
    "df = pd.DataFrame(scores)\n",
    "df"
   ]
  },
  {
   "cell_type": "code",
   "execution_count": 104,
   "id": "f7469c53",
   "metadata": {},
   "outputs": [
    {
     "data": {
      "text/html": [
       "<div>\n",
       "<style scoped>\n",
       "    .dataframe tbody tr th:only-of-type {\n",
       "        vertical-align: middle;\n",
       "    }\n",
       "\n",
       "    .dataframe tbody tr th {\n",
       "        vertical-align: top;\n",
       "    }\n",
       "\n",
       "    .dataframe thead th {\n",
       "        text-align: right;\n",
       "    }\n",
       "</style>\n",
       "<table border=\"1\" class=\"dataframe\">\n",
       "  <thead>\n",
       "    <tr style=\"text-align: right;\">\n",
       "      <th></th>\n",
       "      <th>0</th>\n",
       "      <th>1</th>\n",
       "    </tr>\n",
       "  </thead>\n",
       "  <tbody>\n",
       "    <tr>\n",
       "      <th>1</th>\n",
       "      <td>0.0</td>\n",
       "      <td>K_80</td>\n",
       "    </tr>\n",
       "    <tr>\n",
       "      <th>3</th>\n",
       "      <td>0.23809523809523808</td>\n",
       "      <td>GM_80</td>\n",
       "    </tr>\n",
       "    <tr>\n",
       "      <th>5</th>\n",
       "      <td>0.23809523809523808</td>\n",
       "      <td>BGM_80</td>\n",
       "    </tr>\n",
       "    <tr>\n",
       "      <th>0</th>\n",
       "      <td>0.3465346534653465</td>\n",
       "      <td>K_F</td>\n",
       "    </tr>\n",
       "    <tr>\n",
       "      <th>2</th>\n",
       "      <td>0.37623762376237624</td>\n",
       "      <td>GM_F</td>\n",
       "    </tr>\n",
       "    <tr>\n",
       "      <th>4</th>\n",
       "      <td>0.37623762376237624</td>\n",
       "      <td>BGM_F</td>\n",
       "    </tr>\n",
       "    <tr>\n",
       "      <th>8</th>\n",
       "      <td>0.8048780487804879</td>\n",
       "      <td>RF_60</td>\n",
       "    </tr>\n",
       "    <tr>\n",
       "      <th>7</th>\n",
       "      <td>0.8095238095238095</td>\n",
       "      <td>RF_80</td>\n",
       "    </tr>\n",
       "    <tr>\n",
       "      <th>6</th>\n",
       "      <td>1.0</td>\n",
       "      <td>RF_F</td>\n",
       "    </tr>\n",
       "  </tbody>\n",
       "</table>\n",
       "</div>"
      ],
      "text/plain": [
       "                     0       1\n",
       "1                  0.0    K_80\n",
       "3  0.23809523809523808   GM_80\n",
       "5  0.23809523809523808  BGM_80\n",
       "0   0.3465346534653465     K_F\n",
       "2  0.37623762376237624    GM_F\n",
       "4  0.37623762376237624   BGM_F\n",
       "8   0.8048780487804879   RF_60\n",
       "7   0.8095238095238095   RF_80\n",
       "6                  1.0    RF_F"
      ]
     },
     "execution_count": 104,
     "metadata": {},
     "output_type": "execute_result"
    }
   ],
   "source": [
    "df = df.sort_values(by=[0])\n",
    "df"
   ]
  },
  {
   "cell_type": "code",
   "execution_count": 105,
   "id": "4e0afa3e",
   "metadata": {},
   "outputs": [
    {
     "data": {
      "image/png": "[encoded data removed]",
      "text/plain": [
       "<Figure size 640x480 with 1 Axes>"
      ]
     },
     "metadata": {},
     "output_type": "display_data"
    }
   ],
   "source": [
    "plt.bar(df.loc[:,1], df.loc[:,0], width=0.5)\n",
    "\n",
    "plt.show()"
   ]
  },
  {
   "cell_type": "code",
   "execution_count": null,
   "id": "18f78fd9",
   "metadata": {},
   "outputs": [],
   "source": []
  },
  {
   "cell_type": "code",
   "execution_count": null,
   "id": "2471cc9e",
   "metadata": {},
   "outputs": [],
   "source": []
  },
  {
   "cell_type": "code",
   "execution_count": null,
   "id": "73d13454",
   "metadata": {},
   "outputs": [],
   "source": []
  }
 ],
 "metadata": {
  "kernelspec": {
   "display_name": "Python 3 (ipykernel)",
   "language": "python",
   "name": "python3"
  },
  "language_info": {
   "codemirror_mode": {
    "name": "ipython",
    "version": 3
   },
   "file_extension": ".py",
   "mimetype": "text/x-python",
   "name": "python",
   "nbconvert_exporter": "python",
   "pygments_lexer": "ipython3",
   "version": "3.9.13"
  }
 },
 "nbformat": 4,
 "nbformat_minor": 5
}
